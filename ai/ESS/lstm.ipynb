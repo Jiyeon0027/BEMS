{
 "cells": [
  {
   "cell_type": "code",
   "execution_count": 79,
   "metadata": {},
   "outputs": [
    {
     "name": "stderr",
     "output_type": "stream",
     "text": [
      "c:\\Users\\hansung\\anaconda3\\envs\\ESS_RL\\lib\\site-packages\\tqdm\\auto.py:21: TqdmWarning: IProgress not found. Please update jupyter and ipywidgets. See https://ipywidgets.readthedocs.io/en/stable/user_install.html\n",
      "  from .autonotebook import tqdm as notebook_tqdm\n"
     ]
    }
   ],
   "source": [
    "import pandas as pd\n",
    "import matplotlib.pyplot as plt\n",
    "\n",
    "from sklearn.preprocessing import MinMaxScaler\n",
    "from sklearn.metrics import mean_absolute_percentage_error\n",
    "import numpy as np\n",
    "\n",
    "import torch\n",
    "import torch.nn as nn\n",
    "\n",
    "import random\n",
    "\n",
    "import optuna"
   ]
  },
  {
   "cell_type": "code",
   "execution_count": null,
   "metadata": {},
   "outputs": [],
   "source": [
    "torch.manual_seed(0)\n",
    "\n",
    "device = torch.device(\"cuda:0\" if torch.cuda.is_available()\n",
    "                      else \"cpu\")\n"
   ]
  },
  {
   "cell_type": "code",
   "execution_count": 5,
   "metadata": {},
   "outputs": [
    {
     "data": {
      "text/html": [
       "<div>\n",
       "<style scoped>\n",
       "    .dataframe tbody tr th:only-of-type {\n",
       "        vertical-align: middle;\n",
       "    }\n",
       "\n",
       "    .dataframe tbody tr th {\n",
       "        vertical-align: top;\n",
       "    }\n",
       "\n",
       "    .dataframe thead th {\n",
       "        text-align: right;\n",
       "    }\n",
       "</style>\n",
       "<table border=\"1\" class=\"dataframe\">\n",
       "  <thead>\n",
       "    <tr style=\"text-align: right;\">\n",
       "      <th></th>\n",
       "      <th>CONSUMPTION(kWh)</th>\n",
       "    </tr>\n",
       "    <tr>\n",
       "      <th>TIMESTAMP</th>\n",
       "      <th></th>\n",
       "    </tr>\n",
       "  </thead>\n",
       "  <tbody>\n",
       "    <tr>\n",
       "      <th>2022-07-18 00:00:00</th>\n",
       "      <td>2.804928</td>\n",
       "    </tr>\n",
       "    <tr>\n",
       "      <th>2022-07-18 00:01:00</th>\n",
       "      <td>2.870073</td>\n",
       "    </tr>\n",
       "    <tr>\n",
       "      <th>2022-07-18 00:02:00</th>\n",
       "      <td>2.867803</td>\n",
       "    </tr>\n",
       "    <tr>\n",
       "      <th>2022-07-18 00:03:00</th>\n",
       "      <td>2.856863</td>\n",
       "    </tr>\n",
       "    <tr>\n",
       "      <th>2022-07-18 00:04:00</th>\n",
       "      <td>2.794600</td>\n",
       "    </tr>\n",
       "    <tr>\n",
       "      <th>...</th>\n",
       "      <td>...</td>\n",
       "    </tr>\n",
       "    <tr>\n",
       "      <th>2023-08-30 10:35:00</th>\n",
       "      <td>2.019480</td>\n",
       "    </tr>\n",
       "    <tr>\n",
       "      <th>2023-08-30 10:36:00</th>\n",
       "      <td>1.984963</td>\n",
       "    </tr>\n",
       "    <tr>\n",
       "      <th>2023-08-30 10:37:00</th>\n",
       "      <td>2.045198</td>\n",
       "    </tr>\n",
       "    <tr>\n",
       "      <th>2023-08-30 10:38:00</th>\n",
       "      <td>2.031835</td>\n",
       "    </tr>\n",
       "    <tr>\n",
       "      <th>2023-08-30 10:39:00</th>\n",
       "      <td>2.044580</td>\n",
       "    </tr>\n",
       "  </tbody>\n",
       "</table>\n",
       "<p>588160 rows × 1 columns</p>\n",
       "</div>"
      ],
      "text/plain": [
       "                     CONSUMPTION(kWh)\n",
       "TIMESTAMP                            \n",
       "2022-07-18 00:00:00          2.804928\n",
       "2022-07-18 00:01:00          2.870073\n",
       "2022-07-18 00:02:00          2.867803\n",
       "2022-07-18 00:03:00          2.856863\n",
       "2022-07-18 00:04:00          2.794600\n",
       "...                               ...\n",
       "2023-08-30 10:35:00          2.019480\n",
       "2023-08-30 10:36:00          1.984963\n",
       "2023-08-30 10:37:00          2.045198\n",
       "2023-08-30 10:38:00          2.031835\n",
       "2023-08-30 10:39:00          2.044580\n",
       "\n",
       "[588160 rows x 1 columns]"
      ]
     },
     "execution_count": 5,
     "metadata": {},
     "output_type": "execute_result"
    }
   ],
   "source": [
    "fData = pd.read_csv('../../preprocessed_data/[1분 단위]아파트_동별_소비전력_전력분배_2022-07-18 00.00.00~2023-08-30 10.39.00.csv',usecols=[1,2,3,4])\n",
    "\n",
    "fData[\"CONSUMPTION(kWh)\"] = (fData[\"561_CONSUMPTION(kW)\"] + fData[\"562_CONSUMPTION(kW)\"] + fData[\"563_CONSUMPTION(kW)\"]) / 60\n",
    "fData.drop([\"561_CONSUMPTION(kW)\", \"562_CONSUMPTION(kW)\", \"563_CONSUMPTION(kW)\"], axis = 1, inplace =True)\n",
    "\n",
    "fData['TIMESTAMP'] = pd.to_datetime(fData['TIMESTAMP'])\n",
    "\n",
    "fData.set_index('TIMESTAMP', inplace=True)\n",
    "fData"
   ]
  },
  {
   "cell_type": "code",
   "execution_count": 7,
   "metadata": {},
   "outputs": [
    {
     "name": "stdout",
     "output_type": "stream",
     "text": [
      "588160\n",
      "[1.10147]\n",
      "[4.19295974]\n"
     ]
    }
   ],
   "source": [
    "scaler_data = MinMaxScaler()\n",
    "\n",
    "scaler_data.fit(fData.values)\n",
    "\n",
    "print(scaler_data.n_samples_seen_)   \n",
    "print(scaler_data.data_min_)         \n",
    "print(scaler_data.data_max_)  "
   ]
  },
  {
   "cell_type": "code",
   "execution_count": 8,
   "metadata": {},
   "outputs": [
    {
     "name": "stdout",
     "output_type": "stream",
     "text": [
      "[[0.55101536]\n",
      " [0.57208773]\n",
      " [0.57135345]\n",
      " ...\n",
      " [0.30526653]\n",
      " [0.30094391]\n",
      " [0.30506651]]\n"
     ]
    },
    {
     "data": {
      "text/plain": [
       "[<matplotlib.lines.Line2D at 0x148749de4c0>]"
      ]
     },
     "execution_count": 8,
     "metadata": {},
     "output_type": "execute_result"
    },
    {
     "data": {
      "image/png": "[encoded data removed]",
      "text/plain": [
       "<Figure size 640x480 with 1 Axes>"
      ]
     },
     "metadata": {},
     "output_type": "display_data"
    }
   ],
   "source": [
    "scaled_data = scaler_data.transform(fData.values)\n",
    "print(scaled_data)\n",
    "plt.plot(scaled_data)"
   ]
  },
  {
   "cell_type": "code",
   "execution_count": 9,
   "metadata": {},
   "outputs": [
    {
     "data": {
      "text/html": [
       "<div>\n",
       "<style scoped>\n",
       "    .dataframe tbody tr th:only-of-type {\n",
       "        vertical-align: middle;\n",
       "    }\n",
       "\n",
       "    .dataframe tbody tr th {\n",
       "        vertical-align: top;\n",
       "    }\n",
       "\n",
       "    .dataframe thead th {\n",
       "        text-align: right;\n",
       "    }\n",
       "</style>\n",
       "<table border=\"1\" class=\"dataframe\">\n",
       "  <thead>\n",
       "    <tr style=\"text-align: right;\">\n",
       "      <th></th>\n",
       "      <th>scaled_consumption</th>\n",
       "    </tr>\n",
       "    <tr>\n",
       "      <th>timestamp</th>\n",
       "      <th></th>\n",
       "    </tr>\n",
       "  </thead>\n",
       "  <tbody>\n",
       "    <tr>\n",
       "      <th>2022-07-18 00:00:00</th>\n",
       "      <td>0.551015</td>\n",
       "    </tr>\n",
       "    <tr>\n",
       "      <th>2022-07-18 00:01:00</th>\n",
       "      <td>0.572088</td>\n",
       "    </tr>\n",
       "    <tr>\n",
       "      <th>2022-07-18 00:02:00</th>\n",
       "      <td>0.571353</td>\n",
       "    </tr>\n",
       "    <tr>\n",
       "      <th>2022-07-18 00:03:00</th>\n",
       "      <td>0.567815</td>\n",
       "    </tr>\n",
       "    <tr>\n",
       "      <th>2022-07-18 00:04:00</th>\n",
       "      <td>0.547674</td>\n",
       "    </tr>\n",
       "    <tr>\n",
       "      <th>...</th>\n",
       "      <td>...</td>\n",
       "    </tr>\n",
       "    <tr>\n",
       "      <th>2023-08-30 10:35:00</th>\n",
       "      <td>0.296947</td>\n",
       "    </tr>\n",
       "    <tr>\n",
       "      <th>2023-08-30 10:36:00</th>\n",
       "      <td>0.285782</td>\n",
       "    </tr>\n",
       "    <tr>\n",
       "      <th>2023-08-30 10:37:00</th>\n",
       "      <td>0.305267</td>\n",
       "    </tr>\n",
       "    <tr>\n",
       "      <th>2023-08-30 10:38:00</th>\n",
       "      <td>0.300944</td>\n",
       "    </tr>\n",
       "    <tr>\n",
       "      <th>2023-08-30 10:39:00</th>\n",
       "      <td>0.305067</td>\n",
       "    </tr>\n",
       "  </tbody>\n",
       "</table>\n",
       "<p>588160 rows × 1 columns</p>\n",
       "</div>"
      ],
      "text/plain": [
       "                     scaled_consumption\n",
       "timestamp                              \n",
       "2022-07-18 00:00:00            0.551015\n",
       "2022-07-18 00:01:00            0.572088\n",
       "2022-07-18 00:02:00            0.571353\n",
       "2022-07-18 00:03:00            0.567815\n",
       "2022-07-18 00:04:00            0.547674\n",
       "...                                 ...\n",
       "2023-08-30 10:35:00            0.296947\n",
       "2023-08-30 10:36:00            0.285782\n",
       "2023-08-30 10:37:00            0.305267\n",
       "2023-08-30 10:38:00            0.300944\n",
       "2023-08-30 10:39:00            0.305067\n",
       "\n",
       "[588160 rows x 1 columns]"
      ]
     },
     "execution_count": 9,
     "metadata": {},
     "output_type": "execute_result"
    }
   ],
   "source": [
    "scaled_df = pd.DataFrame({'timestamp' : fData.index, 'scaled_consumption' : scaled_data.flatten()})\n",
    "scaled_df.set_index('timestamp', inplace=True)\n",
    "\n",
    "scaled_df"
   ]
  },
  {
   "cell_type": "code",
   "execution_count": 43,
   "metadata": {},
   "outputs": [
    {
     "data": {
      "text/plain": [
       "648"
      ]
     },
     "execution_count": 43,
     "metadata": {},
     "output_type": "execute_result"
    }
   ],
   "source": [
    "int(len(scaled_df) * 0.01)"
   ]
  },
  {
   "cell_type": "code",
   "execution_count": null,
   "metadata": {},
   "outputs": [],
   "source": [
    "scaled_df[:int(len(scaled_df) * 0.9)]"
   ]
  },
  {
   "cell_type": "code",
   "execution_count": 83,
   "metadata": {},
   "outputs": [],
   "source": [
    "scaled_df = scaled_df.loc[\"2022-07-18 00:00:00\" : '2022-08-31 23:59:00']\n",
    "\n",
    "train_df = scaled_df[int(len(scaled_df) * 0.9) - int(len(scaled_df) * 0.01):int(len(scaled_df) * 0.9)]\n",
    "train = train_df.to_numpy()\n",
    "\n",
    "test_df = scaled_df[int(len(scaled_df) * 0.9):int(len(scaled_df) * 0.9)+100]\n",
    "test = test_df.to_numpy()"
   ]
  },
  {
   "cell_type": "code",
   "execution_count": 45,
   "metadata": {},
   "outputs": [],
   "source": [
    "from torch.utils.data import DataLoader, Dataset\n",
    "\n",
    "class windowDataset(Dataset):\n",
    "    def __init__(self, y, input_window, output_window, stride=1):\n",
    "        L = y.shape[0]\n",
    "        num_samples = (L - input_window - output_window) // stride + 1\n",
    "\n",
    "        X = np.zeros([input_window, num_samples])\n",
    "        Y = np.zeros([output_window, num_samples])\n",
    "\n",
    "        for i in np.arange(num_samples):\n",
    "            start_x = stride*i\n",
    "            end_x = start_x + input_window\n",
    "            X[:,i] = y[start_x:end_x].reshape([-1,])\n",
    "\n",
    "            start_y = stride*i + input_window\n",
    "            end_y = start_y + output_window\n",
    "            Y[:,i] = y[start_y:end_y].reshape([-1,])\n",
    "\n",
    "        X = X.reshape(X.shape[0], X.shape[1], 1).transpose((1,0,2))\n",
    "        Y = Y.reshape(Y.shape[0], Y.shape[1], 1).transpose((1,0,2))\n",
    "        self.x = X\n",
    "        self.y = Y\n",
    "        \n",
    "        self.len = len(X)\n",
    "    def __getitem__(self, i):\n",
    "        return self.x[i], self.y[i]\n",
    "    def __len__(self):\n",
    "        return self.len\n"
   ]
  },
  {
   "cell_type": "code",
   "execution_count": 46,
   "metadata": {},
   "outputs": [],
   "source": [
    "ow = 100\n",
    "iw = ow * 2\n",
    "\n",
    "train_dataset = windowDataset(train, input_window=iw, output_window=ow)\n",
    "train_loader = DataLoader(train_dataset, batch_size=64)"
   ]
  },
  {
   "cell_type": "code",
   "execution_count": 47,
   "metadata": {},
   "outputs": [],
   "source": [
    "class lstm_encoder(nn.Module):\n",
    "    def __init__(self, input_size, hidden_size, num_layers = 1):\n",
    "        super(lstm_encoder, self).__init__()\n",
    "        self.input_size = input_size\n",
    "        self.hidden_size = hidden_size\n",
    "        self.num_layers = num_layers\n",
    "\n",
    "        self.lstm = nn.LSTM(input_size = input_size, hidden_size = hidden_size, num_layers = num_layers, batch_first=True)\n",
    "\n",
    "    def forward(self, x_input):\n",
    "        lstm_out, self.hidden = self.lstm(x_input)\n",
    "        return lstm_out, self.hidden"
   ]
  },
  {
   "cell_type": "code",
   "execution_count": 48,
   "metadata": {},
   "outputs": [],
   "source": [
    "class lstm_decoder(nn.Module):\n",
    "    def __init__(self, input_size, hidden_size, num_layers = 1):\n",
    "        super(lstm_decoder, self).__init__()\n",
    "        self.input_size = input_size\n",
    "        self.hidden_size = hidden_size\n",
    "        self.num_layers = num_layers\n",
    "\n",
    "        self.lstm = nn.LSTM(input_size = input_size, hidden_size = hidden_size,num_layers = num_layers, batch_first=True)\n",
    "        self.linear = nn.Linear(hidden_size, input_size)           \n",
    "\n",
    "    def forward(self, x_input, encoder_hidden_states):\n",
    "        lstm_out, self.hidden = self.lstm(x_input.unsqueeze(-1), encoder_hidden_states) \n",
    "        output = self.linear(lstm_out)\n",
    "        \n",
    "        return output, self.hidden"
   ]
  },
  {
   "cell_type": "code",
   "execution_count": 49,
   "metadata": {},
   "outputs": [],
   "source": [
    "class lstm_encoder_decoder(nn.Module):\n",
    "    def __init__(self, input_size, hidden_size):\n",
    "        super(lstm_encoder_decoder, self).__init__()\n",
    "\n",
    "        self.input_size = input_size\n",
    "        self.hidden_size = hidden_size\n",
    "\n",
    "        self.encoder = lstm_encoder(input_size = input_size, hidden_size = hidden_size)\n",
    "        self.decoder = lstm_decoder(input_size = input_size, hidden_size = hidden_size)\n",
    "\n",
    "    def forward(self, inputs, targets, target_len, teacher_forcing_ratio):\n",
    "        batch_size = inputs.shape[0]\n",
    "        input_size = inputs.shape[2]\n",
    "        \n",
    "        outputs = torch.zeros(batch_size, target_len, input_size)\n",
    "\n",
    "        _, hidden = self.encoder(inputs)\n",
    "        decoder_input = inputs[:,-1, :]\n",
    "        \n",
    "        for t in range(target_len): \n",
    "            out, hidden = self.decoder(decoder_input, hidden)\n",
    "            out = out.squeeze(1)\n",
    "            \n",
    "            if random.random() < teacher_forcing_ratio:\n",
    "                decoder_input = targets[:, t, :]\n",
    "            else:\n",
    "                decoder_input = out\n",
    "            outputs[:,t,:] = out\n",
    "\n",
    "        return outputs\n",
    "\t\n",
    "    def predict(self, inputs, target_len):\n",
    "        self.eval()\n",
    "        inputs = inputs.unsqueeze(0)\n",
    "        batch_size = inputs.shape[0]\n",
    "        input_size = inputs.shape[2]\n",
    "        outputs = torch.zeros(batch_size, target_len, input_size)\n",
    "        _, hidden = self.encoder(inputs)\n",
    "        decoder_input = inputs[:,-1, :]\n",
    "        for t in range(target_len): \n",
    "            out, hidden = self.decoder(decoder_input, hidden)\n",
    "            out = out.squeeze(1)\n",
    "            decoder_input = out\n",
    "            outputs[:,t,:] = out\n",
    "        return outputs.detach().numpy()[0,:,0]"
   ]
  },
  {
   "cell_type": "code",
   "execution_count": 84,
   "metadata": {},
   "outputs": [],
   "source": [
    "def train(model, train_loader, optimizer, epoch, criterion):\n",
    "    model.train()\n",
    "    for i in range(epoch):\n",
    "        total_loss = 0.0\n",
    "        for x,y in train_loader:\n",
    "            optimizer.zero_grad()\n",
    "            x = x.float()\n",
    "            y = y.float()\n",
    "            output = model(x, y, ow, 0.6)\n",
    "            loss = criterion(output, y)\n",
    "            loss.backward()\n",
    "            optimizer.step()\n",
    "            total_loss += loss.cpu().item()\n",
    "\n",
    "    "
   ]
  },
  {
   "cell_type": "code",
   "execution_count": 85,
   "metadata": {},
   "outputs": [],
   "source": [
    "def objective(trial: optuna.Trial, X, y, train_loader):\n",
    "    param = {\n",
    "        'lr' : trial.suggest_float('lr', 1e-6, 1e1, log=True),\n",
    "        'epoch' : trial.suggest_int('epoch', 1000, 7000, 500),\n",
    "        'hidden_size' : trial.suggest_categorical('hidden_size', [16, 32, 64, 128, 256])\n",
    "    }\n",
    "\n",
    "    model = lstm_encoder_decoder(input_size=1, hidden_size=param['hidden_size'])\n",
    "    optimizer = torch.optim.Adam(model.parameters(), lr = param['lr'])\n",
    "    criterion = nn.MSELoss()\n",
    "\n",
    "    for epoch in range(1, param['epoch'] + 1):\n",
    "        train(model, train_loader, optimizer, epoch, criterion)\n",
    "        \n",
    "    score = mean_absolute_percentage_error(X, y)\n",
    "    \n",
    "    return score"
   ]
  },
  {
   "cell_type": "code",
   "execution_count": 86,
   "metadata": {},
   "outputs": [
    {
     "name": "stderr",
     "output_type": "stream",
     "text": [
      "[I 2023-11-05 23:11:21,500] A new study created in memory with name: no-name-14b32dc7-17d6-41eb-8024-615905ad9847\n",
      "C:\\Users\\hansung\\AppData\\Local\\Temp\\ipykernel_21160\\3646947292.py:3: FutureWarning: suggest_loguniform has been deprecated in v3.0.0. This feature will be removed in v6.0.0. See https://github.com/optuna/optuna/releases/tag/v3.0.0. Use suggest_float(..., log=True) instead.\n",
      "  'lr' : trial.suggest_loguniform('lr', 1e-6, 1e1),\n"
     ]
    }
   ],
   "source": [
    "from optuna.samplers import TPESampler\n",
    "\n",
    "# TPESampler : Sampler using TPE (Tree-structured Parzen Estimator) algorithm.\n",
    "study = optuna.create_study(direction='minimize', sampler=TPESampler())\n",
    "\n",
    "study.optimize(lambda trial : objective(trial, train, test, train_loader), n_trials = 50)\n",
    "\n",
    "print('Best trial : score {}, \\nparams {}'.format(study.best_trial.value, study.best_trial.params))"
   ]
  },
  {
   "cell_type": "code",
   "execution_count": 50,
   "metadata": {},
   "outputs": [],
   "source": [
    "model = lstm_encoder_decoder(input_size=1, hidden_size=16)"
   ]
  },
  {
   "cell_type": "code",
   "execution_count": 74,
   "metadata": {},
   "outputs": [],
   "source": [
    "learning_rate=0.01\n",
    "epoch = 3000\n",
    "optimizer = torch.optim.Adam(model.parameters(), lr = learning_rate)\n",
    "criterion = nn.MSELoss()"
   ]
  },
  {
   "cell_type": "code",
   "execution_count": 81,
   "metadata": {},
   "outputs": [
    {
     "name": "stderr",
     "output_type": "stream",
     "text": [
      " 10%|█         | 313/3000 [02:32<21:49,  2.05it/s, loss=6.92439]\n"
     ]
    },
    {
     "ename": "KeyboardInterrupt",
     "evalue": "",
     "output_type": "error",
     "traceback": [
      "\u001b[1;31m---------------------------------------------------------------------------\u001b[0m",
      "\u001b[1;31mKeyboardInterrupt\u001b[0m                         Traceback (most recent call last)",
      "\u001b[1;32mc:\\Users\\hansung\\Desktop\\BEMS\\ai\\ESS\\lstm.ipynb Cell 19\u001b[0m line \u001b[0;36m1\n\u001b[0;32m     <a href='vscode-notebook-cell:/c%3A/Users/hansung/Desktop/BEMS/ai/ESS/lstm.ipynb#X16sZmlsZQ%3D%3D?line=10'>11</a>\u001b[0m output \u001b[39m=\u001b[39m model(x, y, ow, \u001b[39m0.6\u001b[39m)\n\u001b[0;32m     <a href='vscode-notebook-cell:/c%3A/Users/hansung/Desktop/BEMS/ai/ESS/lstm.ipynb#X16sZmlsZQ%3D%3D?line=11'>12</a>\u001b[0m loss \u001b[39m=\u001b[39m criterion(output, y)\n\u001b[1;32m---> <a href='vscode-notebook-cell:/c%3A/Users/hansung/Desktop/BEMS/ai/ESS/lstm.ipynb#X16sZmlsZQ%3D%3D?line=12'>13</a>\u001b[0m loss\u001b[39m.\u001b[39;49mbackward()\n\u001b[0;32m     <a href='vscode-notebook-cell:/c%3A/Users/hansung/Desktop/BEMS/ai/ESS/lstm.ipynb#X16sZmlsZQ%3D%3D?line=13'>14</a>\u001b[0m optimizer\u001b[39m.\u001b[39mstep()\n\u001b[0;32m     <a href='vscode-notebook-cell:/c%3A/Users/hansung/Desktop/BEMS/ai/ESS/lstm.ipynb#X16sZmlsZQ%3D%3D?line=14'>15</a>\u001b[0m total_loss \u001b[39m+\u001b[39m\u001b[39m=\u001b[39m loss\u001b[39m.\u001b[39mcuda()\u001b[39m.\u001b[39mitem()\n",
      "File \u001b[1;32mc:\\Users\\hansung\\anaconda3\\envs\\ESS_RL\\lib\\site-packages\\torch\\_tensor.py:492\u001b[0m, in \u001b[0;36mTensor.backward\u001b[1;34m(self, gradient, retain_graph, create_graph, inputs)\u001b[0m\n\u001b[0;32m    482\u001b[0m \u001b[39mif\u001b[39;00m has_torch_function_unary(\u001b[39mself\u001b[39m):\n\u001b[0;32m    483\u001b[0m     \u001b[39mreturn\u001b[39;00m handle_torch_function(\n\u001b[0;32m    484\u001b[0m         Tensor\u001b[39m.\u001b[39mbackward,\n\u001b[0;32m    485\u001b[0m         (\u001b[39mself\u001b[39m,),\n\u001b[1;32m   (...)\u001b[0m\n\u001b[0;32m    490\u001b[0m         inputs\u001b[39m=\u001b[39minputs,\n\u001b[0;32m    491\u001b[0m     )\n\u001b[1;32m--> 492\u001b[0m torch\u001b[39m.\u001b[39;49mautograd\u001b[39m.\u001b[39;49mbackward(\n\u001b[0;32m    493\u001b[0m     \u001b[39mself\u001b[39;49m, gradient, retain_graph, create_graph, inputs\u001b[39m=\u001b[39;49minputs\n\u001b[0;32m    494\u001b[0m )\n",
      "File \u001b[1;32mc:\\Users\\hansung\\anaconda3\\envs\\ESS_RL\\lib\\site-packages\\torch\\autograd\\__init__.py:251\u001b[0m, in \u001b[0;36mbackward\u001b[1;34m(tensors, grad_tensors, retain_graph, create_graph, grad_variables, inputs)\u001b[0m\n\u001b[0;32m    246\u001b[0m     retain_graph \u001b[39m=\u001b[39m create_graph\n\u001b[0;32m    248\u001b[0m \u001b[39m# The reason we repeat the same comment below is that\u001b[39;00m\n\u001b[0;32m    249\u001b[0m \u001b[39m# some Python versions print out the first line of a multi-line function\u001b[39;00m\n\u001b[0;32m    250\u001b[0m \u001b[39m# calls in the traceback and some print out the last line\u001b[39;00m\n\u001b[1;32m--> 251\u001b[0m Variable\u001b[39m.\u001b[39;49m_execution_engine\u001b[39m.\u001b[39;49mrun_backward(  \u001b[39m# Calls into the C++ engine to run the backward pass\u001b[39;49;00m\n\u001b[0;32m    252\u001b[0m     tensors,\n\u001b[0;32m    253\u001b[0m     grad_tensors_,\n\u001b[0;32m    254\u001b[0m     retain_graph,\n\u001b[0;32m    255\u001b[0m     create_graph,\n\u001b[0;32m    256\u001b[0m     inputs,\n\u001b[0;32m    257\u001b[0m     allow_unreachable\u001b[39m=\u001b[39;49m\u001b[39mTrue\u001b[39;49;00m,\n\u001b[0;32m    258\u001b[0m     accumulate_grad\u001b[39m=\u001b[39;49m\u001b[39mTrue\u001b[39;49;00m,\n\u001b[0;32m    259\u001b[0m )\n",
      "\u001b[1;31mKeyboardInterrupt\u001b[0m: "
     ]
    }
   ],
   "source": [
    "# from tqdm import tqdm\n",
    "\n",
    "# model.train()\n",
    "# with tqdm(range(epoch)) as tr:\n",
    "#     for i in tr:\n",
    "#         total_loss = 0.0\n",
    "#         for x,y in train_loader:\n",
    "#             optimizer.zero_grad()\n",
    "#             x = x.float()\n",
    "#             y = y.float()\n",
    "#             output = model(x, y, ow, 0.6)\n",
    "#             loss = criterion(output, y)\n",
    "#             loss.backward()\n",
    "#             optimizer.step()\n",
    "#             total_loss += loss.cpu().item()\n",
    "#         tr.set_postfix(loss=\"{0:.5f}\".format(total_loss/len(train_loader)))"
   ]
  },
  {
   "cell_type": "code",
   "execution_count": 76,
   "metadata": {},
   "outputs": [],
   "source": [
    "predict = model.predict(torch.tensor(train[-200:]).reshape(-1,1).float(), target_len=ow)\n",
    "\n",
    "# predict = min_max_scaler.inverse_transform(predict.reshape(-1,1))\n",
    "# real = min_max_scaler.inverse_transform(real.reshape(-1,1))"
   ]
  },
  {
   "cell_type": "code",
   "execution_count": 80,
   "metadata": {},
   "outputs": [
    {
     "name": "stdout",
     "output_type": "stream",
     "text": [
      "0.38380401256842406\n"
     ]
    },
    {
     "data": {
      "image/png": "[encoded data removed]",
      "text/plain": [
       "<Figure size 1600x500 with 1 Axes>"
      ]
     },
     "metadata": {},
     "output_type": "display_data"
    }
   ],
   "source": [
    "print(mean_absolute_percentage_error(test_df[:100].values, predict))\n",
    "\n",
    "plt.figure(figsize=(16,5))\n",
    "plt.plot(test_df[:100], label=\"real\")\n",
    "plt.plot(test_df[:100].index, predict, label=\"predict\")\n",
    "\n",
    "plt.title(\"Test Set\")\n",
    "plt.legend()\n",
    "plt.show()"
   ]
  },
  {
   "cell_type": "code",
   "execution_count": null,
   "metadata": {},
   "outputs": [],
   "source": []
  }
 ],
 "metadata": {
  "kernelspec": {
   "display_name": "ESS_RL",
   "language": "python",
   "name": "python3"
  },
  "language_info": {
   "codemirror_mode": {
    "name": "ipython",
    "version": 3
   },
   "file_extension": ".py",
   "mimetype": "text/x-python",
   "name": "python",
   "nbconvert_exporter": "python",
   "pygments_lexer": "ipython3",
   "version": "3.9.18"
  },
  "orig_nbformat": 4,
  "vscode": {
   "interpreter": {
    "hash": "09637a3aa389d45ad45ab9af1dcd17b83a34b4608519640f36ecbd316e2c8d6b"
   }
  }
 },
 "nbformat": 4,
 "nbformat_minor": 2
}
