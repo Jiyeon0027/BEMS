{
 "cells": [
  {
   "cell_type": "code",
   "execution_count": 1,
   "metadata": {},
   "outputs": [],
   "source": [
    "import pandas as pd\n",
    "import matplotlib.pyplot as plt\n",
    "\n",
    "from sklearn.preprocessing import MinMaxScaler\n",
    "from sklearn.metrics import mean_absolute_percentage_error\n",
    "import numpy as np\n",
    "\n",
    "import torch\n",
    "import torch.nn as nn\n",
    "\n",
    "import random\n",
    "from tqdm import tqdm\n",
    "import optuna\n",
    "\n",
    "import pmdarima as pm\n",
    "\n",
    "import datetime\n"
   ]
  },
  {
   "cell_type": "code",
   "execution_count": 2,
   "metadata": {},
   "outputs": [],
   "source": [
    "torch.manual_seed(0)\n",
    "\n",
    "device = torch.device(\"cuda:0\" if torch.cuda.is_available()\n",
    "                      else \"cpu\")"
   ]
  },
  {
   "cell_type": "code",
   "execution_count": 3,
   "metadata": {},
   "outputs": [
    {
     "data": {
      "text/html": [
       "<div>\n",
       "<style scoped>\n",
       "    .dataframe tbody tr th:only-of-type {\n",
       "        vertical-align: middle;\n",
       "    }\n",
       "\n",
       "    .dataframe tbody tr th {\n",
       "        vertical-align: top;\n",
       "    }\n",
       "\n",
       "    .dataframe thead th {\n",
       "        text-align: right;\n",
       "    }\n",
       "</style>\n",
       "<table border=\"1\" class=\"dataframe\">\n",
       "  <thead>\n",
       "    <tr style=\"text-align: right;\">\n",
       "      <th></th>\n",
       "      <th>TIMESTAMP</th>\n",
       "      <th>BUILDING</th>\n",
       "      <th>FLOOR</th>\n",
       "      <th>CONSUMPTION(kW)</th>\n",
       "    </tr>\n",
       "  </thead>\n",
       "  <tbody>\n",
       "    <tr>\n",
       "      <th>0</th>\n",
       "      <td>2023-03-16 06:00:00</td>\n",
       "      <td>561</td>\n",
       "      <td>1</td>\n",
       "      <td>1.174</td>\n",
       "    </tr>\n",
       "    <tr>\n",
       "      <th>1</th>\n",
       "      <td>2023-03-16 07:00:00</td>\n",
       "      <td>561</td>\n",
       "      <td>1</td>\n",
       "      <td>1.272</td>\n",
       "    </tr>\n",
       "    <tr>\n",
       "      <th>2</th>\n",
       "      <td>2023-03-16 08:00:00</td>\n",
       "      <td>561</td>\n",
       "      <td>1</td>\n",
       "      <td>1.864</td>\n",
       "    </tr>\n",
       "    <tr>\n",
       "      <th>3</th>\n",
       "      <td>2023-03-16 09:00:00</td>\n",
       "      <td>561</td>\n",
       "      <td>1</td>\n",
       "      <td>2.381</td>\n",
       "    </tr>\n",
       "    <tr>\n",
       "      <th>4</th>\n",
       "      <td>2023-03-16 10:00:00</td>\n",
       "      <td>561</td>\n",
       "      <td>1</td>\n",
       "      <td>2.658</td>\n",
       "    </tr>\n",
       "    <tr>\n",
       "      <th>...</th>\n",
       "      <td>...</td>\n",
       "      <td>...</td>\n",
       "      <td>...</td>\n",
       "      <td>...</td>\n",
       "    </tr>\n",
       "    <tr>\n",
       "      <th>48151</th>\n",
       "      <td>2023-08-30 06:00:00</td>\n",
       "      <td>563</td>\n",
       "      <td>4</td>\n",
       "      <td>1.499</td>\n",
       "    </tr>\n",
       "    <tr>\n",
       "      <th>48152</th>\n",
       "      <td>2023-08-30 07:00:00</td>\n",
       "      <td>563</td>\n",
       "      <td>4</td>\n",
       "      <td>2.088</td>\n",
       "    </tr>\n",
       "    <tr>\n",
       "      <th>48153</th>\n",
       "      <td>2023-08-30 08:00:00</td>\n",
       "      <td>563</td>\n",
       "      <td>4</td>\n",
       "      <td>1.940</td>\n",
       "    </tr>\n",
       "    <tr>\n",
       "      <th>48154</th>\n",
       "      <td>2023-08-30 09:00:00</td>\n",
       "      <td>563</td>\n",
       "      <td>4</td>\n",
       "      <td>2.326</td>\n",
       "    </tr>\n",
       "    <tr>\n",
       "      <th>48155</th>\n",
       "      <td>2023-08-30 10:00:00</td>\n",
       "      <td>563</td>\n",
       "      <td>4</td>\n",
       "      <td>2.021</td>\n",
       "    </tr>\n",
       "  </tbody>\n",
       "</table>\n",
       "<p>48156 rows × 4 columns</p>\n",
       "</div>"
      ],
      "text/plain": [
       "                 TIMESTAMP  BUILDING  FLOOR  CONSUMPTION(kW)\n",
       "0      2023-03-16 06:00:00       561      1            1.174\n",
       "1      2023-03-16 07:00:00       561      1            1.272\n",
       "2      2023-03-16 08:00:00       561      1            1.864\n",
       "3      2023-03-16 09:00:00       561      1            2.381\n",
       "4      2023-03-16 10:00:00       561      1            2.658\n",
       "...                    ...       ...    ...              ...\n",
       "48151  2023-08-30 06:00:00       563      4            1.499\n",
       "48152  2023-08-30 07:00:00       563      4            2.088\n",
       "48153  2023-08-30 08:00:00       563      4            1.940\n",
       "48154  2023-08-30 09:00:00       563      4            2.326\n",
       "48155  2023-08-30 10:00:00       563      4            2.021\n",
       "\n",
       "[48156 rows x 4 columns]"
      ]
     },
     "execution_count": 3,
     "metadata": {},
     "output_type": "execute_result"
    }
   ],
   "source": [
    "df = pd.read_csv(\"../../preprocessed_data/[AI]아파트_층별_소비전력_1시간_2023-03-16 06.00.00 ~ 2023-08-30 10.00.00.csv\", usecols=[1,2,3,4])\n",
    "\n",
    "df"
   ]
  },
  {
   "cell_type": "code",
   "execution_count": 8,
   "metadata": {},
   "outputs": [
    {
     "name": "stderr",
     "output_type": "stream",
     "text": [
      "C:\\Users\\hansung\\AppData\\Local\\Temp\\ipykernel_13260\\770779451.py:2: SettingWithCopyWarning: \n",
      "A value is trying to be set on a copy of a slice from a DataFrame.\n",
      "Try using .loc[row_indexer,col_indexer] = value instead\n",
      "\n",
      "See the caveats in the documentation: https://pandas.pydata.org/pandas-docs/stable/user_guide/indexing.html#returning-a-view-versus-a-copy\n",
      "  df_561_1['TIMESTAMP'] = pd.to_datetime(df_561_1['TIMESTAMP'])\n",
      "C:\\Users\\hansung\\AppData\\Local\\Temp\\ipykernel_13260\\770779451.py:4: SettingWithCopyWarning: \n",
      "A value is trying to be set on a copy of a slice from a DataFrame\n",
      "\n",
      "See the caveats in the documentation: https://pandas.pydata.org/pandas-docs/stable/user_guide/indexing.html#returning-a-view-versus-a-copy\n",
      "  df_561_1.drop(['TIMESTAMP', 'BUILDING', 'FLOOR'], axis = 1, inplace=True)\n"
     ]
    },
    {
     "data": {
      "text/html": [
       "<div>\n",
       "<style scoped>\n",
       "    .dataframe tbody tr th:only-of-type {\n",
       "        vertical-align: middle;\n",
       "    }\n",
       "\n",
       "    .dataframe tbody tr th {\n",
       "        vertical-align: top;\n",
       "    }\n",
       "\n",
       "    .dataframe thead th {\n",
       "        text-align: right;\n",
       "    }\n",
       "</style>\n",
       "<table border=\"1\" class=\"dataframe\">\n",
       "  <thead>\n",
       "    <tr style=\"text-align: right;\">\n",
       "      <th></th>\n",
       "      <th>CONSUMPTION(kW)</th>\n",
       "    </tr>\n",
       "    <tr>\n",
       "      <th>TIMESTAMP</th>\n",
       "      <th></th>\n",
       "    </tr>\n",
       "  </thead>\n",
       "  <tbody>\n",
       "    <tr>\n",
       "      <th>2023-03-16 06:00:00</th>\n",
       "      <td>1.174</td>\n",
       "    </tr>\n",
       "    <tr>\n",
       "      <th>2023-03-16 07:00:00</th>\n",
       "      <td>1.272</td>\n",
       "    </tr>\n",
       "    <tr>\n",
       "      <th>2023-03-16 08:00:00</th>\n",
       "      <td>1.864</td>\n",
       "    </tr>\n",
       "    <tr>\n",
       "      <th>2023-03-16 09:00:00</th>\n",
       "      <td>2.381</td>\n",
       "    </tr>\n",
       "    <tr>\n",
       "      <th>2023-03-16 10:00:00</th>\n",
       "      <td>2.658</td>\n",
       "    </tr>\n",
       "    <tr>\n",
       "      <th>...</th>\n",
       "      <td>...</td>\n",
       "    </tr>\n",
       "    <tr>\n",
       "      <th>2023-08-30 06:00:00</th>\n",
       "      <td>2.050</td>\n",
       "    </tr>\n",
       "    <tr>\n",
       "      <th>2023-08-30 07:00:00</th>\n",
       "      <td>1.658</td>\n",
       "    </tr>\n",
       "    <tr>\n",
       "      <th>2023-08-30 08:00:00</th>\n",
       "      <td>1.587</td>\n",
       "    </tr>\n",
       "    <tr>\n",
       "      <th>2023-08-30 09:00:00</th>\n",
       "      <td>2.454</td>\n",
       "    </tr>\n",
       "    <tr>\n",
       "      <th>2023-08-30 10:00:00</th>\n",
       "      <td>2.211</td>\n",
       "    </tr>\n",
       "  </tbody>\n",
       "</table>\n",
       "<p>4013 rows × 1 columns</p>\n",
       "</div>"
      ],
      "text/plain": [
       "                     CONSUMPTION(kW)\n",
       "TIMESTAMP                           \n",
       "2023-03-16 06:00:00            1.174\n",
       "2023-03-16 07:00:00            1.272\n",
       "2023-03-16 08:00:00            1.864\n",
       "2023-03-16 09:00:00            2.381\n",
       "2023-03-16 10:00:00            2.658\n",
       "...                              ...\n",
       "2023-08-30 06:00:00            2.050\n",
       "2023-08-30 07:00:00            1.658\n",
       "2023-08-30 08:00:00            1.587\n",
       "2023-08-30 09:00:00            2.454\n",
       "2023-08-30 10:00:00            2.211\n",
       "\n",
       "[4013 rows x 1 columns]"
      ]
     },
     "execution_count": 8,
     "metadata": {},
     "output_type": "execute_result"
    }
   ],
   "source": [
    "df_561_1 = df.query(\"`BUILDING` == 561 and `FLOOR` == 1\")\n",
    "df_561_1['TIMESTAMP'] = pd.to_datetime(df_561_1['TIMESTAMP'])\n",
    "df_561_1.set_index(df_561_1['TIMESTAMP'], drop=True, inplace=True)\n",
    "df_561_1.drop(['TIMESTAMP', 'BUILDING', 'FLOOR'], axis = 1, inplace=True)\n",
    "df_561_1"
   ]
  },
  {
   "cell_type": "code",
   "execution_count": 9,
   "metadata": {},
   "outputs": [],
   "source": [
    "# scaled_df = scaled_df.loc[\"2023-07-18 00:00:00\" : '2023-08-31 23:59:00']\n",
    "df = df_561_1\n",
    "train_df = df.iloc[:int(len(df) * 0.9)]\n",
    "\n",
    "test_df = df[int(len(df) * 0.9):]"
   ]
  },
  {
   "cell_type": "code",
   "execution_count": 10,
   "metadata": {},
   "outputs": [],
   "source": [
    "ow = 24\n",
    "iw = ow * 2\n",
    "\n",
    "train = train_df[:-ow]\n",
    "train = train.to_numpy()\n",
    "\n",
    "valid = train_df[-ow:]\n",
    "valid = valid.to_numpy()"
   ]
  },
  {
   "cell_type": "code",
   "execution_count": 11,
   "metadata": {},
   "outputs": [],
   "source": [
    "from torch.utils.data import DataLoader, Dataset\n",
    "\n",
    "class windowDataset(Dataset):\n",
    "    def __init__(self, y, input_window, output_window, stride=1):\n",
    "        L = y.shape[0]\n",
    "        num_samples = (L - input_window - output_window) // stride + 1\n",
    "\n",
    "        X = np.zeros([input_window, num_samples])\n",
    "        Y = np.zeros([output_window, num_samples])\n",
    "\n",
    "        for i in np.arange(num_samples):\n",
    "            start_x = stride*i\n",
    "            end_x = start_x + input_window\n",
    "            X[:,i] = y[start_x:end_x].reshape([-1,])\n",
    "\n",
    "            start_y = stride*i + input_window\n",
    "            end_y = start_y + output_window\n",
    "            Y[:,i] = y[start_y:end_y].reshape([-1,])\n",
    "\n",
    "        X = X.reshape(X.shape[0], X.shape[1], 1).transpose((1,0,2))\n",
    "        Y = Y.reshape(Y.shape[0], Y.shape[1], 1).transpose((1,0,2))\n",
    "        self.x = X\n",
    "        self.y = Y\n",
    "        \n",
    "        self.len = len(X)\n",
    "    def __getitem__(self, i):\n",
    "        return self.x[i], self.y[i]\n",
    "    def __len__(self):\n",
    "        return self.len\n"
   ]
  },
  {
   "cell_type": "code",
   "execution_count": 20,
   "metadata": {},
   "outputs": [],
   "source": [
    "train_dataset = windowDataset(train, input_window=iw, output_window=ow, stride=3)\n",
    "train_loader = DataLoader(train_dataset, batch_size=64)"
   ]
  },
  {
   "cell_type": "code",
   "execution_count": 21,
   "metadata": {},
   "outputs": [
    {
     "data": {
      "text/plain": [
       "1172"
      ]
     },
     "execution_count": 21,
     "metadata": {},
     "output_type": "execute_result"
    }
   ],
   "source": [
    "train_dataset.len"
   ]
  },
  {
   "cell_type": "code",
   "execution_count": 18,
   "metadata": {},
   "outputs": [],
   "source": [
    "class lstm_encoder(nn.Module):\n",
    "    def __init__(self, input_size, hidden_size, num_layers = 1):\n",
    "        super(lstm_encoder, self).__init__()\n",
    "        self.input_size = input_size\n",
    "        self.hidden_size = hidden_size\n",
    "        self.num_layers = num_layers\n",
    "\n",
    "        self.lstm = nn.LSTM(input_size = input_size, hidden_size = hidden_size, num_layers = num_layers, batch_first=True)\n",
    "\n",
    "    def forward(self, x_input):\n",
    "        lstm_out, self.hidden = self.lstm(x_input)\n",
    "        return lstm_out, self.hidden"
   ]
  },
  {
   "cell_type": "code",
   "execution_count": 19,
   "metadata": {},
   "outputs": [],
   "source": [
    "class lstm_decoder(nn.Module):\n",
    "    def __init__(self, input_size, hidden_size, num_layers = 1):\n",
    "        super(lstm_decoder, self).__init__()\n",
    "        self.input_size = input_size\n",
    "        self.hidden_size = hidden_size\n",
    "        self.num_layers = num_layers\n",
    "\n",
    "        self.lstm = nn.LSTM(input_size = input_size, hidden_size = hidden_size,num_layers = num_layers, batch_first=True)\n",
    "        self.linear = nn.Linear(hidden_size, input_size)           \n",
    "\n",
    "    def forward(self, x_input, encoder_hidden_states):\n",
    "        lstm_out, self.hidden = self.lstm(x_input.unsqueeze(-1), encoder_hidden_states) \n",
    "        output = self.linear(lstm_out)\n",
    "        \n",
    "        return output, self.hidden"
   ]
  },
  {
   "cell_type": "code",
   "execution_count": 22,
   "metadata": {},
   "outputs": [],
   "source": [
    "class lstm_encoder_decoder(nn.Module):\n",
    "    def __init__(self, input_size, hidden_size):\n",
    "        super(lstm_encoder_decoder, self).__init__()\n",
    "\n",
    "        self.input_size = input_size\n",
    "        self.hidden_size = hidden_size\n",
    "\n",
    "        self.encoder = lstm_encoder(input_size = input_size, hidden_size = hidden_size).to(device)\n",
    "        self.decoder = lstm_decoder(input_size = input_size, hidden_size = hidden_size).to(device)\n",
    "\n",
    "    def forward(self, inputs, targets, target_len, teacher_forcing_ratio):\n",
    "        batch_size = inputs.shape[0]\n",
    "        input_size = inputs.shape[2]\n",
    "        \n",
    "        outputs = torch.zeros(batch_size, target_len, input_size).to(device)\n",
    "\n",
    "        _, hidden = self.encoder(inputs)\n",
    "        decoder_input = inputs[:,-1, :].to(device)\n",
    "        \n",
    "        for t in range(target_len): \n",
    "            out, hidden = self.decoder(decoder_input, hidden)\n",
    "            out = out.squeeze(1)\n",
    "            \n",
    "            if random.random() < teacher_forcing_ratio:\n",
    "                decoder_input = targets[:, t, :].to(device)\n",
    "            else:\n",
    "                decoder_input = out.to(device)\n",
    "            outputs[:,t,:] = out\n",
    "\n",
    "        return outputs\n",
    "\t\n",
    "    def predict(self, inputs, target_len):\n",
    "        self.eval()\n",
    "        inputs = inputs.unsqueeze(0)\n",
    "        batch_size = inputs.shape[0]\n",
    "        input_size = inputs.shape[2]\n",
    "        outputs = torch.zeros(batch_size, target_len, input_size)\n",
    "        _, hidden = self.encoder(inputs)\n",
    "        decoder_input = inputs[:,-1, :]\n",
    "        for t in range(target_len): \n",
    "            out, hidden = self.decoder(decoder_input, hidden)\n",
    "            out = out.squeeze(1)\n",
    "            decoder_input = out\n",
    "            outputs[:,t,:] = out\n",
    "        return outputs.detach().numpy()[0,:,0]"
   ]
  },
  {
   "cell_type": "code",
   "execution_count": 23,
   "metadata": {},
   "outputs": [],
   "source": [
    "import gc\n",
    "\n",
    "def objective(trial: optuna.Trial, X, Y, train_loader):\n",
    "    param = {\n",
    "        'lr' : trial.suggest_categorical('lr', [1e-7, 1e-6, 1e-5, 1e-4, 1e-3, 1e-2, 1e-1]),\n",
    "        'epoch' : trial.suggest_int('epoch', 1000, 7000, 1000),\n",
    "        'hidden_size' : trial.suggest_categorical('hidden_size', [16, 32, 64, 128, 256, 512])\n",
    "    }\n",
    "\n",
    "    print(param)\n",
    "\n",
    "    model = lstm_encoder_decoder(input_size=1, hidden_size=param['hidden_size']).to(device)\n",
    "    optimizer = torch.optim.Adam(model.parameters(), lr = param['lr'])\n",
    "    criterion = nn.MSELoss()\n",
    "\n",
    "    model.train()\n",
    "    with tqdm(range(param['epoch'])) as tr:\n",
    "        for i in tr:\n",
    "            total_loss = 0.0\n",
    "            for x,y in train_loader:\n",
    "                optimizer.zero_grad()\n",
    "                x = x.to(device).float()\n",
    "                y = y.to(device).float()\n",
    "                output = model(x, y, ow, 0.6)\n",
    "                loss = criterion(output.to(device), y)\n",
    "                loss.backward()\n",
    "                optimizer.step()\n",
    "                total_loss += loss.cpu().item()\n",
    "            tr.set_postfix(loss=\"{0:.5f}\".format(total_loss/len(train_loader)))\n",
    "\n",
    "    prediction = model.predict(torch.tensor(X[-iw:]).reshape(-1,1).to(device).float(), target_len=ow)\n",
    "\n",
    "    score = mean_absolute_percentage_error(prediction, Y)\n",
    "    print(score)\n",
    "\n",
    "    gc.collect()\n",
    "\n",
    "    return score"
   ]
  },
  {
   "cell_type": "code",
   "execution_count": 27,
   "metadata": {},
   "outputs": [
    {
     "name": "stderr",
     "output_type": "stream",
     "text": [
      "[I 2023-11-21 14:16:15,657] A new study created in memory with name: no-name-48cb9d75-f97d-47f2-9d5e-cb8a0b5aa4c1\n"
     ]
    },
    {
     "name": "stdout",
     "output_type": "stream",
     "text": [
      "{'lr': 0.1, 'epoch': 2000, 'hidden_size': 16}\n"
     ]
    },
    {
     "name": "stderr",
     "output_type": "stream",
     "text": [
      "100%|██████████| 2000/2000 [11:29<00:00,  2.90it/s, loss=0.30925]\n",
      "[I 2023-11-21 14:27:44,931] Trial 0 finished with value: 0.32035398751499516 and parameters: {'lr': 0.1, 'epoch': 2000, 'hidden_size': 16}. Best is trial 0 with value: 0.32035398751499516.\n"
     ]
    },
    {
     "name": "stdout",
     "output_type": "stream",
     "text": [
      "0.32035398751499516\n",
      "{'lr': 1e-07, 'epoch': 7000, 'hidden_size': 512}\n"
     ]
    },
    {
     "name": "stderr",
     "output_type": "stream",
     "text": [
      "100%|██████████| 7000/7000 [6:34:09<00:00,  3.38s/it, loss=0.34849]  \n",
      "[I 2023-11-21 21:01:54,923] Trial 1 finished with value: 0.19270162926707465 and parameters: {'lr': 1e-07, 'epoch': 7000, 'hidden_size': 512}. Best is trial 1 with value: 0.19270162926707465.\n"
     ]
    },
    {
     "name": "stdout",
     "output_type": "stream",
     "text": [
      "0.19270162926707465\n",
      "{'lr': 0.001, 'epoch': 4000, 'hidden_size': 64}\n"
     ]
    },
    {
     "name": "stderr",
     "output_type": "stream",
     "text": [
      "100%|██████████| 4000/4000 [25:21<00:00,  2.63it/s, loss=0.03935]\n",
      "[I 2023-11-21 21:27:16,157] Trial 2 finished with value: 0.17747745325002015 and parameters: {'lr': 0.001, 'epoch': 4000, 'hidden_size': 64}. Best is trial 2 with value: 0.17747745325002015.\n"
     ]
    },
    {
     "name": "stdout",
     "output_type": "stream",
     "text": [
      "0.17747745325002015\n",
      "{'lr': 1e-07, 'epoch': 1000, 'hidden_size': 16}\n"
     ]
    },
    {
     "name": "stderr",
     "output_type": "stream",
     "text": [
      "100%|██████████| 1000/1000 [04:50<00:00,  3.44it/s, loss=5.35488]\n",
      "[I 2023-11-21 21:32:07,189] Trial 3 finished with value: 21.21111857010927 and parameters: {'lr': 1e-07, 'epoch': 1000, 'hidden_size': 16}. Best is trial 2 with value: 0.17747745325002015.\n"
     ]
    },
    {
     "name": "stdout",
     "output_type": "stream",
     "text": [
      "21.21111857010927\n",
      "{'lr': 1e-06, 'epoch': 1000, 'hidden_size': 64}\n"
     ]
    },
    {
     "name": "stderr",
     "output_type": "stream",
     "text": [
      "100%|██████████| 1000/1000 [06:19<00:00,  2.63it/s, loss=1.77561]\n",
      "[I 2023-11-21 21:38:27,215] Trial 4 finished with value: 2.5461835923176532 and parameters: {'lr': 1e-06, 'epoch': 1000, 'hidden_size': 64}. Best is trial 2 with value: 0.17747745325002015.\n"
     ]
    },
    {
     "name": "stdout",
     "output_type": "stream",
     "text": [
      "2.5461835923176532\n",
      "{'lr': 1e-06, 'epoch': 7000, 'hidden_size': 64}\n"
     ]
    },
    {
     "name": "stderr",
     "output_type": "stream",
     "text": [
      "100%|██████████| 7000/7000 [44:17<00:00,  2.63it/s, loss=0.32001]\n",
      "[I 2023-11-21 22:22:44,670] Trial 5 finished with value: 0.19986390849247748 and parameters: {'lr': 1e-06, 'epoch': 7000, 'hidden_size': 64}. Best is trial 2 with value: 0.17747745325002015.\n"
     ]
    },
    {
     "name": "stdout",
     "output_type": "stream",
     "text": [
      "0.19986390849247748\n",
      "{'lr': 0.01, 'epoch': 5000, 'hidden_size': 128}\n"
     ]
    },
    {
     "name": "stderr",
     "output_type": "stream",
     "text": [
      "100%|██████████| 5000/5000 [1:29:37<00:00,  1.08s/it, loss=219.84005]\n",
      "[I 2023-11-21 23:52:22,174] Trial 6 finished with value: 1.564954750141834 and parameters: {'lr': 0.01, 'epoch': 5000, 'hidden_size': 128}. Best is trial 2 with value: 0.17747745325002015.\n"
     ]
    },
    {
     "name": "stdout",
     "output_type": "stream",
     "text": [
      "1.564954750141834\n",
      "{'lr': 0.01, 'epoch': 4000, 'hidden_size': 64}\n"
     ]
    },
    {
     "name": "stderr",
     "output_type": "stream",
     "text": [
      "100%|██████████| 4000/4000 [25:52<00:00,  2.58it/s, loss=0.08928]\n",
      "[I 2023-11-22 00:18:14,756] Trial 7 finished with value: 0.21356512126919158 and parameters: {'lr': 0.01, 'epoch': 4000, 'hidden_size': 64}. Best is trial 2 with value: 0.17747745325002015.\n"
     ]
    },
    {
     "name": "stdout",
     "output_type": "stream",
     "text": [
      "0.21356512126919158\n",
      "{'lr': 1e-05, 'epoch': 6000, 'hidden_size': 512}\n"
     ]
    },
    {
     "name": "stderr",
     "output_type": "stream",
     "text": [
      "100%|██████████| 6000/6000 [5:37:21<00:00,  3.37s/it, loss=0.07258]  \n",
      "[I 2023-11-22 05:55:36,324] Trial 8 finished with value: 0.12694092423104866 and parameters: {'lr': 1e-05, 'epoch': 6000, 'hidden_size': 512}. Best is trial 8 with value: 0.12694092423104866.\n"
     ]
    },
    {
     "name": "stdout",
     "output_type": "stream",
     "text": [
      "0.12694092423104866\n",
      "{'lr': 0.0001, 'epoch': 5000, 'hidden_size': 256}\n"
     ]
    },
    {
     "name": "stderr",
     "output_type": "stream",
     "text": [
      "100%|██████████| 5000/5000 [1:27:59<00:00,  1.06s/it, loss=0.00077]\n",
      "[I 2023-11-22 07:23:35,838] Trial 9 finished with value: 0.14782227074250767 and parameters: {'lr': 0.0001, 'epoch': 5000, 'hidden_size': 256}. Best is trial 8 with value: 0.12694092423104866.\n"
     ]
    },
    {
     "name": "stdout",
     "output_type": "stream",
     "text": [
      "0.14782227074250767\n",
      "{'lr': 1e-05, 'epoch': 6000, 'hidden_size': 512}\n"
     ]
    },
    {
     "name": "stderr",
     "output_type": "stream",
     "text": [
      "100%|██████████| 6000/6000 [5:38:25<00:00,  3.38s/it, loss=0.07473]  \n",
      "[I 2023-11-22 13:02:01,603] Trial 10 finished with value: 0.10852049948048732 and parameters: {'lr': 1e-05, 'epoch': 6000, 'hidden_size': 512}. Best is trial 10 with value: 0.10852049948048732.\n"
     ]
    },
    {
     "name": "stdout",
     "output_type": "stream",
     "text": [
      "0.10852049948048732\n",
      "{'lr': 1e-05, 'epoch': 6000, 'hidden_size': 512}\n"
     ]
    },
    {
     "name": "stderr",
     "output_type": "stream",
     "text": [
      "100%|██████████| 6000/6000 [5:41:24<00:00,  3.41s/it, loss=0.06762]  \n",
      "[I 2023-11-22 18:43:26,120] Trial 11 finished with value: 0.15006119210060007 and parameters: {'lr': 1e-05, 'epoch': 6000, 'hidden_size': 512}. Best is trial 10 with value: 0.10852049948048732.\n"
     ]
    },
    {
     "name": "stdout",
     "output_type": "stream",
     "text": [
      "0.15006119210060007\n",
      "{'lr': 1e-05, 'epoch': 6000, 'hidden_size': 512}\n"
     ]
    },
    {
     "name": "stderr",
     "output_type": "stream",
     "text": [
      "100%|██████████| 6000/6000 [5:37:35<00:00,  3.38s/it, loss=0.08256]  \n",
      "[I 2023-11-23 00:21:01,578] Trial 12 finished with value: 0.17156550595100328 and parameters: {'lr': 1e-05, 'epoch': 6000, 'hidden_size': 512}. Best is trial 10 with value: 0.10852049948048732.\n"
     ]
    },
    {
     "name": "stdout",
     "output_type": "stream",
     "text": [
      "0.17156550595100328\n",
      "{'lr': 1e-05, 'epoch': 6000, 'hidden_size': 512}\n"
     ]
    },
    {
     "name": "stderr",
     "output_type": "stream",
     "text": [
      "100%|██████████| 6000/6000 [5:38:06<00:00,  3.38s/it, loss=0.07233]  \n",
      "[I 2023-11-23 05:59:08,098] Trial 13 finished with value: 0.12484033579361171 and parameters: {'lr': 1e-05, 'epoch': 6000, 'hidden_size': 512}. Best is trial 10 with value: 0.10852049948048732.\n"
     ]
    },
    {
     "name": "stdout",
     "output_type": "stream",
     "text": [
      "0.12484033579361171\n",
      "{'lr': 1e-05, 'epoch': 3000, 'hidden_size': 32}\n"
     ]
    },
    {
     "name": "stderr",
     "output_type": "stream",
     "text": [
      "100%|██████████| 3000/3000 [15:47<00:00,  3.17it/s, loss=0.23191]\n",
      "[I 2023-11-23 06:14:55,242] Trial 14 finished with value: 0.18496612531531217 and parameters: {'lr': 1e-05, 'epoch': 3000, 'hidden_size': 32}. Best is trial 10 with value: 0.10852049948048732.\n"
     ]
    },
    {
     "name": "stdout",
     "output_type": "stream",
     "text": [
      "0.18496612531531217\n",
      "{'lr': 1e-05, 'epoch': 5000, 'hidden_size': 512}\n"
     ]
    },
    {
     "name": "stderr",
     "output_type": "stream",
     "text": [
      "100%|██████████| 5000/5000 [4:40:47<00:00,  3.37s/it, loss=0.11344]  \n",
      "[I 2023-11-23 10:55:42,706] Trial 15 finished with value: 0.1488243065285002 and parameters: {'lr': 1e-05, 'epoch': 5000, 'hidden_size': 512}. Best is trial 10 with value: 0.10852049948048732.\n"
     ]
    },
    {
     "name": "stdout",
     "output_type": "stream",
     "text": [
      "0.1488243065285002\n",
      "{'lr': 0.0001, 'epoch': 7000, 'hidden_size': 256}\n"
     ]
    },
    {
     "name": "stderr",
     "output_type": "stream",
     "text": [
      "100%|██████████| 7000/7000 [2:04:47<00:00,  1.07s/it, loss=0.00023]  \n",
      "[I 2023-11-23 13:00:30,312] Trial 16 finished with value: 0.13219159273947584 and parameters: {'lr': 0.0001, 'epoch': 7000, 'hidden_size': 256}. Best is trial 10 with value: 0.10852049948048732.\n"
     ]
    },
    {
     "name": "stdout",
     "output_type": "stream",
     "text": [
      "0.13219159273947584\n",
      "{'lr': 0.1, 'epoch': 6000, 'hidden_size': 128}\n"
     ]
    },
    {
     "name": "stderr",
     "output_type": "stream",
     "text": [
      "100%|██████████| 6000/6000 [3:20:17<00:00,  2.00s/it, loss=0.67684]  \n",
      "[I 2023-11-23 16:20:48,138] Trial 17 finished with value: 0.18886755551241108 and parameters: {'lr': 0.1, 'epoch': 6000, 'hidden_size': 128}. Best is trial 10 with value: 0.10852049948048732.\n"
     ]
    },
    {
     "name": "stdout",
     "output_type": "stream",
     "text": [
      "0.18886755551241108\n",
      "{'lr': 0.001, 'epoch': 4000, 'hidden_size': 32}\n"
     ]
    },
    {
     "name": "stderr",
     "output_type": "stream",
     "text": [
      "100%|██████████| 4000/4000 [21:55<00:00,  3.04it/s, loss=0.09621]\n",
      "[I 2023-11-23 16:42:44,001] Trial 18 finished with value: 0.13080677047504133 and parameters: {'lr': 0.001, 'epoch': 4000, 'hidden_size': 32}. Best is trial 10 with value: 0.10852049948048732.\n"
     ]
    },
    {
     "name": "stdout",
     "output_type": "stream",
     "text": [
      "0.13080677047504133\n",
      "{'lr': 1e-05, 'epoch': 5000, 'hidden_size': 512}\n"
     ]
    },
    {
     "name": "stderr",
     "output_type": "stream",
     "text": [
      "100%|██████████| 5000/5000 [4:40:40<00:00,  3.37s/it, loss=0.09616]  \n",
      "[I 2023-11-23 21:23:25,149] Trial 19 finished with value: 0.15946992581959243 and parameters: {'lr': 1e-05, 'epoch': 5000, 'hidden_size': 512}. Best is trial 10 with value: 0.10852049948048732.\n"
     ]
    },
    {
     "name": "stdout",
     "output_type": "stream",
     "text": [
      "0.15946992581959243\n",
      "{'lr': 1e-05, 'epoch': 3000, 'hidden_size': 512}\n"
     ]
    },
    {
     "name": "stderr",
     "output_type": "stream",
     "text": [
      " 27%|██▋       | 807/3000 [45:12<2:02:51,  3.36s/it, loss=0.20323]\n",
      "[W 2023-11-23 22:08:37,947] Trial 20 failed with parameters: {'lr': 1e-05, 'epoch': 3000, 'hidden_size': 512} because of the following error: KeyboardInterrupt().\n",
      "Traceback (most recent call last):\n",
      "  File \"c:\\Users\\hansung\\anaconda3\\envs\\ESS_RL\\lib\\site-packages\\optuna\\study\\_optimize.py\", line 200, in _run_trial\n",
      "    value_or_values = func(trial)\n",
      "  File \"C:\\Users\\hansung\\AppData\\Local\\Temp\\ipykernel_13260\\3402694182.py\", line 6, in <lambda>\n",
      "    study.optimize(lambda trial : objective(trial, train, valid, train_loader), n_trials = 50)\n",
      "  File \"C:\\Users\\hansung\\AppData\\Local\\Temp\\ipykernel_13260\\3621953642.py\", line 26, in objective\n",
      "    loss.backward()\n",
      "  File \"c:\\Users\\hansung\\anaconda3\\envs\\ESS_RL\\lib\\site-packages\\torch\\_tensor.py\", line 492, in backward\n",
      "    torch.autograd.backward(\n",
      "  File \"c:\\Users\\hansung\\anaconda3\\envs\\ESS_RL\\lib\\site-packages\\torch\\autograd\\__init__.py\", line 251, in backward\n",
      "    Variable._execution_engine.run_backward(  # Calls into the C++ engine to run the backward pass\n",
      "KeyboardInterrupt\n",
      "[W 2023-11-23 22:08:37,948] Trial 20 failed with value None.\n"
     ]
    },
    {
     "ename": "KeyboardInterrupt",
     "evalue": "",
     "output_type": "error",
     "traceback": [
      "\u001b[1;31m---------------------------------------------------------------------------\u001b[0m",
      "\u001b[1;31mKeyboardInterrupt\u001b[0m                         Traceback (most recent call last)",
      "\u001b[1;32mc:\\Users\\hansung\\Desktop\\BEMS\\ai\\floor_prediction\\floor_lstm.ipynb Cell 14\u001b[0m line \u001b[0;36m6\n\u001b[0;32m      <a href='vscode-notebook-cell:/c%3A/Users/hansung/Desktop/BEMS/ai/floor_prediction/floor_lstm.ipynb#X21sZmlsZQ%3D%3D?line=2'>3</a>\u001b[0m \u001b[39m# TPESampler : Sampler using TPE (Tree-structured Parzen Estimator) algorithm.\u001b[39;00m\n\u001b[0;32m      <a href='vscode-notebook-cell:/c%3A/Users/hansung/Desktop/BEMS/ai/floor_prediction/floor_lstm.ipynb#X21sZmlsZQ%3D%3D?line=3'>4</a>\u001b[0m study \u001b[39m=\u001b[39m optuna\u001b[39m.\u001b[39mcreate_study(direction\u001b[39m=\u001b[39m\u001b[39m'\u001b[39m\u001b[39mminimize\u001b[39m\u001b[39m'\u001b[39m, sampler\u001b[39m=\u001b[39mTPESampler())\n\u001b[1;32m----> <a href='vscode-notebook-cell:/c%3A/Users/hansung/Desktop/BEMS/ai/floor_prediction/floor_lstm.ipynb#X21sZmlsZQ%3D%3D?line=5'>6</a>\u001b[0m study\u001b[39m.\u001b[39;49moptimize(\u001b[39mlambda\u001b[39;49;00m trial : objective(trial, train, valid, train_loader), n_trials \u001b[39m=\u001b[39;49m \u001b[39m50\u001b[39;49m)\n\u001b[0;32m      <a href='vscode-notebook-cell:/c%3A/Users/hansung/Desktop/BEMS/ai/floor_prediction/floor_lstm.ipynb#X21sZmlsZQ%3D%3D?line=7'>8</a>\u001b[0m \u001b[39mprint\u001b[39m(\u001b[39m'\u001b[39m\u001b[39mBest trial : score \u001b[39m\u001b[39m{}\u001b[39;00m\u001b[39m, \u001b[39m\u001b[39m\\n\u001b[39;00m\u001b[39mparams \u001b[39m\u001b[39m{}\u001b[39;00m\u001b[39m'\u001b[39m\u001b[39m.\u001b[39mformat(study\u001b[39m.\u001b[39mbest_trial\u001b[39m.\u001b[39mvalue, study\u001b[39m.\u001b[39mbest_trial\u001b[39m.\u001b[39mparams))\n",
      "File \u001b[1;32mc:\\Users\\hansung\\anaconda3\\envs\\ESS_RL\\lib\\site-packages\\optuna\\study\\study.py:451\u001b[0m, in \u001b[0;36mStudy.optimize\u001b[1;34m(self, func, n_trials, timeout, n_jobs, catch, callbacks, gc_after_trial, show_progress_bar)\u001b[0m\n\u001b[0;32m    348\u001b[0m \u001b[39mdef\u001b[39;00m \u001b[39moptimize\u001b[39m(\n\u001b[0;32m    349\u001b[0m     \u001b[39mself\u001b[39m,\n\u001b[0;32m    350\u001b[0m     func: ObjectiveFuncType,\n\u001b[1;32m   (...)\u001b[0m\n\u001b[0;32m    357\u001b[0m     show_progress_bar: \u001b[39mbool\u001b[39m \u001b[39m=\u001b[39m \u001b[39mFalse\u001b[39;00m,\n\u001b[0;32m    358\u001b[0m ) \u001b[39m-\u001b[39m\u001b[39m>\u001b[39m \u001b[39mNone\u001b[39;00m:\n\u001b[0;32m    359\u001b[0m \u001b[39m    \u001b[39m\u001b[39m\"\"\"Optimize an objective function.\u001b[39;00m\n\u001b[0;32m    360\u001b[0m \n\u001b[0;32m    361\u001b[0m \u001b[39m    Optimization is done by choosing a suitable set of hyperparameter values from a given\u001b[39;00m\n\u001b[1;32m   (...)\u001b[0m\n\u001b[0;32m    449\u001b[0m \u001b[39m            If nested invocation of this method occurs.\u001b[39;00m\n\u001b[0;32m    450\u001b[0m \u001b[39m    \"\"\"\u001b[39;00m\n\u001b[1;32m--> 451\u001b[0m     _optimize(\n\u001b[0;32m    452\u001b[0m         study\u001b[39m=\u001b[39;49m\u001b[39mself\u001b[39;49m,\n\u001b[0;32m    453\u001b[0m         func\u001b[39m=\u001b[39;49mfunc,\n\u001b[0;32m    454\u001b[0m         n_trials\u001b[39m=\u001b[39;49mn_trials,\n\u001b[0;32m    455\u001b[0m         timeout\u001b[39m=\u001b[39;49mtimeout,\n\u001b[0;32m    456\u001b[0m         n_jobs\u001b[39m=\u001b[39;49mn_jobs,\n\u001b[0;32m    457\u001b[0m         catch\u001b[39m=\u001b[39;49m\u001b[39mtuple\u001b[39;49m(catch) \u001b[39mif\u001b[39;49;00m \u001b[39misinstance\u001b[39;49m(catch, Iterable) \u001b[39melse\u001b[39;49;00m (catch,),\n\u001b[0;32m    458\u001b[0m         callbacks\u001b[39m=\u001b[39;49mcallbacks,\n\u001b[0;32m    459\u001b[0m         gc_after_trial\u001b[39m=\u001b[39;49mgc_after_trial,\n\u001b[0;32m    460\u001b[0m         show_progress_bar\u001b[39m=\u001b[39;49mshow_progress_bar,\n\u001b[0;32m    461\u001b[0m     )\n",
      "File \u001b[1;32mc:\\Users\\hansung\\anaconda3\\envs\\ESS_RL\\lib\\site-packages\\optuna\\study\\_optimize.py:66\u001b[0m, in \u001b[0;36m_optimize\u001b[1;34m(study, func, n_trials, timeout, n_jobs, catch, callbacks, gc_after_trial, show_progress_bar)\u001b[0m\n\u001b[0;32m     64\u001b[0m \u001b[39mtry\u001b[39;00m:\n\u001b[0;32m     65\u001b[0m     \u001b[39mif\u001b[39;00m n_jobs \u001b[39m==\u001b[39m \u001b[39m1\u001b[39m:\n\u001b[1;32m---> 66\u001b[0m         _optimize_sequential(\n\u001b[0;32m     67\u001b[0m             study,\n\u001b[0;32m     68\u001b[0m             func,\n\u001b[0;32m     69\u001b[0m             n_trials,\n\u001b[0;32m     70\u001b[0m             timeout,\n\u001b[0;32m     71\u001b[0m             catch,\n\u001b[0;32m     72\u001b[0m             callbacks,\n\u001b[0;32m     73\u001b[0m             gc_after_trial,\n\u001b[0;32m     74\u001b[0m             reseed_sampler_rng\u001b[39m=\u001b[39;49m\u001b[39mFalse\u001b[39;49;00m,\n\u001b[0;32m     75\u001b[0m             time_start\u001b[39m=\u001b[39;49m\u001b[39mNone\u001b[39;49;00m,\n\u001b[0;32m     76\u001b[0m             progress_bar\u001b[39m=\u001b[39;49mprogress_bar,\n\u001b[0;32m     77\u001b[0m         )\n\u001b[0;32m     78\u001b[0m     \u001b[39melse\u001b[39;00m:\n\u001b[0;32m     79\u001b[0m         \u001b[39mif\u001b[39;00m n_jobs \u001b[39m==\u001b[39m \u001b[39m-\u001b[39m\u001b[39m1\u001b[39m:\n",
      "File \u001b[1;32mc:\\Users\\hansung\\anaconda3\\envs\\ESS_RL\\lib\\site-packages\\optuna\\study\\_optimize.py:163\u001b[0m, in \u001b[0;36m_optimize_sequential\u001b[1;34m(study, func, n_trials, timeout, catch, callbacks, gc_after_trial, reseed_sampler_rng, time_start, progress_bar)\u001b[0m\n\u001b[0;32m    160\u001b[0m         \u001b[39mbreak\u001b[39;00m\n\u001b[0;32m    162\u001b[0m \u001b[39mtry\u001b[39;00m:\n\u001b[1;32m--> 163\u001b[0m     frozen_trial \u001b[39m=\u001b[39m _run_trial(study, func, catch)\n\u001b[0;32m    164\u001b[0m \u001b[39mfinally\u001b[39;00m:\n\u001b[0;32m    165\u001b[0m     \u001b[39m# The following line mitigates memory problems that can be occurred in some\u001b[39;00m\n\u001b[0;32m    166\u001b[0m     \u001b[39m# environments (e.g., services that use computing containers such as GitHub Actions).\u001b[39;00m\n\u001b[0;32m    167\u001b[0m     \u001b[39m# Please refer to the following PR for further details:\u001b[39;00m\n\u001b[0;32m    168\u001b[0m     \u001b[39m# https://github.com/optuna/optuna/pull/325.\u001b[39;00m\n\u001b[0;32m    169\u001b[0m     \u001b[39mif\u001b[39;00m gc_after_trial:\n",
      "File \u001b[1;32mc:\\Users\\hansung\\anaconda3\\envs\\ESS_RL\\lib\\site-packages\\optuna\\study\\_optimize.py:251\u001b[0m, in \u001b[0;36m_run_trial\u001b[1;34m(study, func, catch)\u001b[0m\n\u001b[0;32m    244\u001b[0m         \u001b[39massert\u001b[39;00m \u001b[39mFalse\u001b[39;00m, \u001b[39m\"\u001b[39m\u001b[39mShould not reach.\u001b[39m\u001b[39m\"\u001b[39m\n\u001b[0;32m    246\u001b[0m \u001b[39mif\u001b[39;00m (\n\u001b[0;32m    247\u001b[0m     frozen_trial\u001b[39m.\u001b[39mstate \u001b[39m==\u001b[39m TrialState\u001b[39m.\u001b[39mFAIL\n\u001b[0;32m    248\u001b[0m     \u001b[39mand\u001b[39;00m func_err \u001b[39mis\u001b[39;00m \u001b[39mnot\u001b[39;00m \u001b[39mNone\u001b[39;00m\n\u001b[0;32m    249\u001b[0m     \u001b[39mand\u001b[39;00m \u001b[39mnot\u001b[39;00m \u001b[39misinstance\u001b[39m(func_err, catch)\n\u001b[0;32m    250\u001b[0m ):\n\u001b[1;32m--> 251\u001b[0m     \u001b[39mraise\u001b[39;00m func_err\n\u001b[0;32m    252\u001b[0m \u001b[39mreturn\u001b[39;00m frozen_trial\n",
      "File \u001b[1;32mc:\\Users\\hansung\\anaconda3\\envs\\ESS_RL\\lib\\site-packages\\optuna\\study\\_optimize.py:200\u001b[0m, in \u001b[0;36m_run_trial\u001b[1;34m(study, func, catch)\u001b[0m\n\u001b[0;32m    198\u001b[0m \u001b[39mwith\u001b[39;00m get_heartbeat_thread(trial\u001b[39m.\u001b[39m_trial_id, study\u001b[39m.\u001b[39m_storage):\n\u001b[0;32m    199\u001b[0m     \u001b[39mtry\u001b[39;00m:\n\u001b[1;32m--> 200\u001b[0m         value_or_values \u001b[39m=\u001b[39m func(trial)\n\u001b[0;32m    201\u001b[0m     \u001b[39mexcept\u001b[39;00m exceptions\u001b[39m.\u001b[39mTrialPruned \u001b[39mas\u001b[39;00m e:\n\u001b[0;32m    202\u001b[0m         \u001b[39m# TODO(mamu): Handle multi-objective cases.\u001b[39;00m\n\u001b[0;32m    203\u001b[0m         state \u001b[39m=\u001b[39m TrialState\u001b[39m.\u001b[39mPRUNED\n",
      "\u001b[1;32mc:\\Users\\hansung\\Desktop\\BEMS\\ai\\floor_prediction\\floor_lstm.ipynb Cell 14\u001b[0m line \u001b[0;36m6\n\u001b[0;32m      <a href='vscode-notebook-cell:/c%3A/Users/hansung/Desktop/BEMS/ai/floor_prediction/floor_lstm.ipynb#X21sZmlsZQ%3D%3D?line=2'>3</a>\u001b[0m \u001b[39m# TPESampler : Sampler using TPE (Tree-structured Parzen Estimator) algorithm.\u001b[39;00m\n\u001b[0;32m      <a href='vscode-notebook-cell:/c%3A/Users/hansung/Desktop/BEMS/ai/floor_prediction/floor_lstm.ipynb#X21sZmlsZQ%3D%3D?line=3'>4</a>\u001b[0m study \u001b[39m=\u001b[39m optuna\u001b[39m.\u001b[39mcreate_study(direction\u001b[39m=\u001b[39m\u001b[39m'\u001b[39m\u001b[39mminimize\u001b[39m\u001b[39m'\u001b[39m, sampler\u001b[39m=\u001b[39mTPESampler())\n\u001b[1;32m----> <a href='vscode-notebook-cell:/c%3A/Users/hansung/Desktop/BEMS/ai/floor_prediction/floor_lstm.ipynb#X21sZmlsZQ%3D%3D?line=5'>6</a>\u001b[0m study\u001b[39m.\u001b[39moptimize(\u001b[39mlambda\u001b[39;00m trial : objective(trial, train, valid, train_loader), n_trials \u001b[39m=\u001b[39m \u001b[39m50\u001b[39m)\n\u001b[0;32m      <a href='vscode-notebook-cell:/c%3A/Users/hansung/Desktop/BEMS/ai/floor_prediction/floor_lstm.ipynb#X21sZmlsZQ%3D%3D?line=7'>8</a>\u001b[0m \u001b[39mprint\u001b[39m(\u001b[39m'\u001b[39m\u001b[39mBest trial : score \u001b[39m\u001b[39m{}\u001b[39;00m\u001b[39m, \u001b[39m\u001b[39m\\n\u001b[39;00m\u001b[39mparams \u001b[39m\u001b[39m{}\u001b[39;00m\u001b[39m'\u001b[39m\u001b[39m.\u001b[39mformat(study\u001b[39m.\u001b[39mbest_trial\u001b[39m.\u001b[39mvalue, study\u001b[39m.\u001b[39mbest_trial\u001b[39m.\u001b[39mparams))\n",
      "\u001b[1;32mc:\\Users\\hansung\\Desktop\\BEMS\\ai\\floor_prediction\\floor_lstm.ipynb Cell 14\u001b[0m line \u001b[0;36m2\n\u001b[0;32m     <a href='vscode-notebook-cell:/c%3A/Users/hansung/Desktop/BEMS/ai/floor_prediction/floor_lstm.ipynb#X21sZmlsZQ%3D%3D?line=23'>24</a>\u001b[0m output \u001b[39m=\u001b[39m model(x, y, ow, \u001b[39m0.6\u001b[39m)\n\u001b[0;32m     <a href='vscode-notebook-cell:/c%3A/Users/hansung/Desktop/BEMS/ai/floor_prediction/floor_lstm.ipynb#X21sZmlsZQ%3D%3D?line=24'>25</a>\u001b[0m loss \u001b[39m=\u001b[39m criterion(output\u001b[39m.\u001b[39mto(device), y)\n\u001b[1;32m---> <a href='vscode-notebook-cell:/c%3A/Users/hansung/Desktop/BEMS/ai/floor_prediction/floor_lstm.ipynb#X21sZmlsZQ%3D%3D?line=25'>26</a>\u001b[0m loss\u001b[39m.\u001b[39;49mbackward()\n\u001b[0;32m     <a href='vscode-notebook-cell:/c%3A/Users/hansung/Desktop/BEMS/ai/floor_prediction/floor_lstm.ipynb#X21sZmlsZQ%3D%3D?line=26'>27</a>\u001b[0m optimizer\u001b[39m.\u001b[39mstep()\n\u001b[0;32m     <a href='vscode-notebook-cell:/c%3A/Users/hansung/Desktop/BEMS/ai/floor_prediction/floor_lstm.ipynb#X21sZmlsZQ%3D%3D?line=27'>28</a>\u001b[0m total_loss \u001b[39m+\u001b[39m\u001b[39m=\u001b[39m loss\u001b[39m.\u001b[39mcpu()\u001b[39m.\u001b[39mitem()\n",
      "File \u001b[1;32mc:\\Users\\hansung\\anaconda3\\envs\\ESS_RL\\lib\\site-packages\\torch\\_tensor.py:492\u001b[0m, in \u001b[0;36mTensor.backward\u001b[1;34m(self, gradient, retain_graph, create_graph, inputs)\u001b[0m\n\u001b[0;32m    482\u001b[0m \u001b[39mif\u001b[39;00m has_torch_function_unary(\u001b[39mself\u001b[39m):\n\u001b[0;32m    483\u001b[0m     \u001b[39mreturn\u001b[39;00m handle_torch_function(\n\u001b[0;32m    484\u001b[0m         Tensor\u001b[39m.\u001b[39mbackward,\n\u001b[0;32m    485\u001b[0m         (\u001b[39mself\u001b[39m,),\n\u001b[1;32m   (...)\u001b[0m\n\u001b[0;32m    490\u001b[0m         inputs\u001b[39m=\u001b[39minputs,\n\u001b[0;32m    491\u001b[0m     )\n\u001b[1;32m--> 492\u001b[0m torch\u001b[39m.\u001b[39;49mautograd\u001b[39m.\u001b[39;49mbackward(\n\u001b[0;32m    493\u001b[0m     \u001b[39mself\u001b[39;49m, gradient, retain_graph, create_graph, inputs\u001b[39m=\u001b[39;49minputs\n\u001b[0;32m    494\u001b[0m )\n",
      "File \u001b[1;32mc:\\Users\\hansung\\anaconda3\\envs\\ESS_RL\\lib\\site-packages\\torch\\autograd\\__init__.py:251\u001b[0m, in \u001b[0;36mbackward\u001b[1;34m(tensors, grad_tensors, retain_graph, create_graph, grad_variables, inputs)\u001b[0m\n\u001b[0;32m    246\u001b[0m     retain_graph \u001b[39m=\u001b[39m create_graph\n\u001b[0;32m    248\u001b[0m \u001b[39m# The reason we repeat the same comment below is that\u001b[39;00m\n\u001b[0;32m    249\u001b[0m \u001b[39m# some Python versions print out the first line of a multi-line function\u001b[39;00m\n\u001b[0;32m    250\u001b[0m \u001b[39m# calls in the traceback and some print out the last line\u001b[39;00m\n\u001b[1;32m--> 251\u001b[0m Variable\u001b[39m.\u001b[39;49m_execution_engine\u001b[39m.\u001b[39;49mrun_backward(  \u001b[39m# Calls into the C++ engine to run the backward pass\u001b[39;49;00m\n\u001b[0;32m    252\u001b[0m     tensors,\n\u001b[0;32m    253\u001b[0m     grad_tensors_,\n\u001b[0;32m    254\u001b[0m     retain_graph,\n\u001b[0;32m    255\u001b[0m     create_graph,\n\u001b[0;32m    256\u001b[0m     inputs,\n\u001b[0;32m    257\u001b[0m     allow_unreachable\u001b[39m=\u001b[39;49m\u001b[39mTrue\u001b[39;49;00m,\n\u001b[0;32m    258\u001b[0m     accumulate_grad\u001b[39m=\u001b[39;49m\u001b[39mTrue\u001b[39;49;00m,\n\u001b[0;32m    259\u001b[0m )\n",
      "\u001b[1;31mKeyboardInterrupt\u001b[0m: "
     ]
    }
   ],
   "source": [
    "from optuna.samplers import TPESampler\n",
    "\n",
    "# TPESampler : Sampler using TPE (Tree-structured Parzen Estimator) algorithm.\n",
    "study = optuna.create_study(direction='minimize', sampler=TPESampler())\n",
    "\n",
    "study.optimize(lambda trial : objective(trial, train, valid, train_loader), n_trials = 50)\n",
    "\n",
    "print('Best trial : score {}, \\nparams {}'.format(study.best_trial.value, study.best_trial.params))"
   ]
  },
  {
   "cell_type": "code",
   "execution_count": null,
   "metadata": {},
   "outputs": [
    {
     "data": {
      "text/plain": [
       "FrozenTrial(number=33, state=TrialState.COMPLETE, values=[0.16593623638617697], datetime_start=datetime.datetime(2023, 11, 18, 23, 45, 28, 366166), datetime_complete=datetime.datetime(2023, 11, 19, 0, 13, 58, 557509), params={'lr': 1e-06, 'epoch': 6000, 'hidden_size': 256}, user_attrs={}, system_attrs={}, intermediate_values={}, distributions={'lr': CategoricalDistribution(choices=(1e-06, 1e-05, 0.0001, 0.001, 0.01, 0.1)), 'epoch': IntDistribution(high=7000, log=False, low=1000, step=1000), 'hidden_size': CategoricalDistribution(choices=(16, 32, 64, 128, 256))}, trial_id=33, value=None)"
      ]
     },
     "execution_count": 124,
     "metadata": {},
     "output_type": "execute_result"
    }
   ],
   "source": [
    "study.best_trial"
   ]
  },
  {
   "cell_type": "code",
   "execution_count": 60,
   "metadata": {},
   "outputs": [],
   "source": [
    "learning_rate=1e-6\n",
    "epoch = 6000\n",
    "\n",
    "model = lstm_encoder_decoder(input_size=1, hidden_size=256).to(device)\n",
    "optimizer = torch.optim.Adam(model.parameters(), lr = learning_rate)\n",
    "criterion = nn.MSELoss()"
   ]
  },
  {
   "cell_type": "code",
   "execution_count": 64,
   "metadata": {},
   "outputs": [
    {
     "name": "stderr",
     "output_type": "stream",
     "text": [
      "100%|██████████| 6000/6000 [1:53:44<00:00,  1.14s/it, loss=0.38758]"
     ]
    },
    {
     "name": "stdout",
     "output_type": "stream",
     "text": [
      "0.15161876006090194\n"
     ]
    },
    {
     "name": "stderr",
     "output_type": "stream",
     "text": [
      "\n"
     ]
    }
   ],
   "source": [
    "model.train()\n",
    "with tqdm(range(6000)) as tr:\n",
    "    for i in tr:\n",
    "        total_loss = 0.0\n",
    "        for x,y in train_loader:\n",
    "            optimizer.zero_grad()\n",
    "            x = x.to(device).float()\n",
    "            y = y.to(device).float()\n",
    "            output = model(x, y, ow, 0.6)\n",
    "            loss = criterion(output.to(device), y)\n",
    "            loss.backward()\n",
    "            optimizer.step()\n",
    "            total_loss += loss.cpu().item()\n",
    "        tr.set_postfix(loss=\"{0:.5f}\".format(total_loss/len(train_loader)))\n",
    "\n",
    "       \n",
    "\n",
    "prediction = model.predict(torch.tensor(train[-iw:]).reshape(-1,1).to(device).float(), target_len=ow)\n",
    "\n",
    "score = mean_absolute_percentage_error(prediction, valid)\n",
    "print(score)"
   ]
  },
  {
   "cell_type": "code",
   "execution_count": 80,
   "metadata": {},
   "outputs": [
    {
     "data": {
      "text/plain": [
       "array([[3.965],\n",
       "       [4.671],\n",
       "       [4.153],\n",
       "       [4.636],\n",
       "       [5.443],\n",
       "       [4.815],\n",
       "       [6.075],\n",
       "       [6.607],\n",
       "       [5.974],\n",
       "       [3.88 ],\n",
       "       [3.566],\n",
       "       [3.701],\n",
       "       [3.708],\n",
       "       [3.339],\n",
       "       [3.918],\n",
       "       [3.684],\n",
       "       [4.421],\n",
       "       [5.571],\n",
       "       [5.175],\n",
       "       [4.735],\n",
       "       [5.09 ],\n",
       "       [4.671],\n",
       "       [4.219],\n",
       "       [4.097],\n",
       "       [4.08 ],\n",
       "       [3.845],\n",
       "       [4.276],\n",
       "       [4.488],\n",
       "       [5.67 ],\n",
       "       [4.798],\n",
       "       [5.225],\n",
       "       [6.46 ],\n",
       "       [5.54 ],\n",
       "       [4.966],\n",
       "       [3.954],\n",
       "       [3.072],\n",
       "       [2.69 ],\n",
       "       [2.458],\n",
       "       [2.946],\n",
       "       [3.335],\n",
       "       [3.34 ],\n",
       "       [4.24 ],\n",
       "       [4.854],\n",
       "       [4.932],\n",
       "       [3.787],\n",
       "       [4.851],\n",
       "       [4.94 ],\n",
       "       [5.785]])"
      ]
     },
     "execution_count": 80,
     "metadata": {},
     "output_type": "execute_result"
    }
   ],
   "source": [
    "train_df[-iw:].to_numpy()"
   ]
  },
  {
   "cell_type": "code",
   "execution_count": 85,
   "metadata": {},
   "outputs": [
    {
     "data": {
      "text/html": [
       "<div>\n",
       "<style scoped>\n",
       "    .dataframe tbody tr th:only-of-type {\n",
       "        vertical-align: middle;\n",
       "    }\n",
       "\n",
       "    .dataframe tbody tr th {\n",
       "        vertical-align: top;\n",
       "    }\n",
       "\n",
       "    .dataframe thead th {\n",
       "        text-align: right;\n",
       "    }\n",
       "</style>\n",
       "<table border=\"1\" class=\"dataframe\">\n",
       "  <thead>\n",
       "    <tr style=\"text-align: right;\">\n",
       "      <th></th>\n",
       "      <th>CONSUMPTION(W)</th>\n",
       "    </tr>\n",
       "    <tr>\n",
       "      <th>TIMESTAMP</th>\n",
       "      <th></th>\n",
       "    </tr>\n",
       "  </thead>\n",
       "  <tbody>\n",
       "    <tr>\n",
       "      <th>2023-08-13 17:00:00</th>\n",
       "      <td>5.353</td>\n",
       "    </tr>\n",
       "    <tr>\n",
       "      <th>2023-08-13 18:00:00</th>\n",
       "      <td>5.612</td>\n",
       "    </tr>\n",
       "    <tr>\n",
       "      <th>2023-08-13 19:00:00</th>\n",
       "      <td>5.793</td>\n",
       "    </tr>\n",
       "    <tr>\n",
       "      <th>2023-08-13 20:00:00</th>\n",
       "      <td>5.505</td>\n",
       "    </tr>\n",
       "    <tr>\n",
       "      <th>2023-08-13 21:00:00</th>\n",
       "      <td>5.962</td>\n",
       "    </tr>\n",
       "    <tr>\n",
       "      <th>...</th>\n",
       "      <td>...</td>\n",
       "    </tr>\n",
       "    <tr>\n",
       "      <th>2023-08-30 06:00:00</th>\n",
       "      <td>3.313</td>\n",
       "    </tr>\n",
       "    <tr>\n",
       "      <th>2023-08-30 07:00:00</th>\n",
       "      <td>3.157</td>\n",
       "    </tr>\n",
       "    <tr>\n",
       "      <th>2023-08-30 08:00:00</th>\n",
       "      <td>3.243</td>\n",
       "    </tr>\n",
       "    <tr>\n",
       "      <th>2023-08-30 09:00:00</th>\n",
       "      <td>3.802</td>\n",
       "    </tr>\n",
       "    <tr>\n",
       "      <th>2023-08-30 10:00:00</th>\n",
       "      <td>3.200</td>\n",
       "    </tr>\n",
       "  </tbody>\n",
       "</table>\n",
       "<p>402 rows × 1 columns</p>\n",
       "</div>"
      ],
      "text/plain": [
       "                     CONSUMPTION(W)\n",
       "TIMESTAMP                          \n",
       "2023-08-13 17:00:00           5.353\n",
       "2023-08-13 18:00:00           5.612\n",
       "2023-08-13 19:00:00           5.793\n",
       "2023-08-13 20:00:00           5.505\n",
       "2023-08-13 21:00:00           5.962\n",
       "...                             ...\n",
       "2023-08-30 06:00:00           3.313\n",
       "2023-08-30 07:00:00           3.157\n",
       "2023-08-30 08:00:00           3.243\n",
       "2023-08-30 09:00:00           3.802\n",
       "2023-08-30 10:00:00           3.200\n",
       "\n",
       "[402 rows x 1 columns]"
      ]
     },
     "execution_count": 85,
     "metadata": {},
     "output_type": "execute_result"
    }
   ],
   "source": [
    "test_df"
   ]
  },
  {
   "cell_type": "code",
   "execution_count": 118,
   "metadata": {},
   "outputs": [],
   "source": [
    "predict = model.predict(torch.tensor(test_df[3*iw:4*iw].to_numpy()).reshape(-1,1).float(), target_len=ow)\n",
    "\n",
    "# predict = min_max_scaler.inverse_transform(predict.reshape(-1,1))\n",
    "# real = min_max_scaler.inverse_transform(real.reshape(-1,1))"
   ]
  },
  {
   "cell_type": "code",
   "execution_count": 119,
   "metadata": {},
   "outputs": [
    {
     "data": {
      "text/plain": [
       "array([5.485884 , 5.552669 , 5.5856886, 5.6450458, 5.71515  , 5.762538 ,\n",
       "       5.745004 , 5.6236014, 5.3986225, 5.12081  , 4.866816 , 4.6971407,\n",
       "       4.629627 , 4.6439223, 4.7035728, 4.775175 , 4.837462 , 4.8833623,\n",
       "       4.9179006, 4.953274 , 5.00306  , 5.0776978, 5.1822443, 5.3160357],\n",
       "      dtype=float32)"
      ]
     },
     "execution_count": 119,
     "metadata": {},
     "output_type": "execute_result"
    }
   ],
   "source": [
    "predict"
   ]
  },
  {
   "cell_type": "code",
   "execution_count": 121,
   "metadata": {},
   "outputs": [
    {
     "name": "stdout",
     "output_type": "stream",
     "text": [
      "0.1219658800433473\n"
     ]
    },
    {
     "data": {
      "image/png": "[encoded data removed]",
      "text/plain": [
       "<Figure size 1600x500 with 1 Axes>"
      ]
     },
     "metadata": {},
     "output_type": "display_data"
    }
   ],
   "source": [
    "test = test_df[4*ow:5*ow]\n",
    "print(mean_absolute_percentage_error(test, prediction))\n",
    "\n",
    "plt.figure(figsize=(16,5))\n",
    "plt.plot(test.values, label=\"real\")\n",
    "plt.plot(prediction, label=\"predict\")\n",
    "\n",
    "plt.title(\"Test Set\")\n",
    "plt.legend()\n",
    "plt.show()"
   ]
  },
  {
   "cell_type": "code",
   "execution_count": null,
   "metadata": {},
   "outputs": [],
   "source": []
  }
 ],
 "metadata": {
  "kernelspec": {
   "display_name": "ESS_RL",
   "language": "python",
   "name": "python3"
  },
  "language_info": {
   "codemirror_mode": {
    "name": "ipython",
    "version": 3
   },
   "file_extension": ".py",
   "mimetype": "text/x-python",
   "name": "python",
   "nbconvert_exporter": "python",
   "pygments_lexer": "ipython3",
   "version": "3.9.18"
  }
 },
 "nbformat": 4,
 "nbformat_minor": 2
}
