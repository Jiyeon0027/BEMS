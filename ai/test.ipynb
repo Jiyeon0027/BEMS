{
 "cells": [
  {
   "cell_type": "code",
   "execution_count": 1,
   "metadata": {},
   "outputs": [],
   "source": [
    "import pandas as pd\n",
    "import numpy as np\n",
    "\n",
    "import datetime"
   ]
  },
  {
   "cell_type": "code",
   "execution_count": 9,
   "metadata": {},
   "outputs": [
    {
     "data": {
      "text/html": [
       "<div>\n",
       "<style scoped>\n",
       "    .dataframe tbody tr th:only-of-type {\n",
       "        vertical-align: middle;\n",
       "    }\n",
       "\n",
       "    .dataframe tbody tr th {\n",
       "        vertical-align: top;\n",
       "    }\n",
       "\n",
       "    .dataframe thead th {\n",
       "        text-align: right;\n",
       "    }\n",
       "</style>\n",
       "<table border=\"1\" class=\"dataframe\">\n",
       "  <thead>\n",
       "    <tr style=\"text-align: right;\">\n",
       "      <th></th>\n",
       "      <th>TIMESTAMP</th>\n",
       "      <th>561_CONSUMPTION(kW)</th>\n",
       "      <th>562_CONSUMPTION(kW)</th>\n",
       "      <th>563_CONSUMPTION(kW)</th>\n",
       "    </tr>\n",
       "  </thead>\n",
       "  <tbody>\n",
       "    <tr>\n",
       "      <th>0</th>\n",
       "      <td>2022-07-18 00:00:00</td>\n",
       "      <td>62.1733</td>\n",
       "      <td>67.7842</td>\n",
       "      <td>38.3382</td>\n",
       "    </tr>\n",
       "    <tr>\n",
       "      <th>1</th>\n",
       "      <td>2022-07-18 00:01:00</td>\n",
       "      <td>65.9248</td>\n",
       "      <td>69.0978</td>\n",
       "      <td>37.1818</td>\n",
       "    </tr>\n",
       "    <tr>\n",
       "      <th>2</th>\n",
       "      <td>2022-07-18 00:02:00</td>\n",
       "      <td>65.0934</td>\n",
       "      <td>69.3263</td>\n",
       "      <td>37.6485</td>\n",
       "    </tr>\n",
       "    <tr>\n",
       "      <th>3</th>\n",
       "      <td>2022-07-18 00:03:00</td>\n",
       "      <td>69.8256</td>\n",
       "      <td>67.6393</td>\n",
       "      <td>33.9469</td>\n",
       "    </tr>\n",
       "    <tr>\n",
       "      <th>4</th>\n",
       "      <td>2022-07-18 00:04:00</td>\n",
       "      <td>66.7572</td>\n",
       "      <td>66.2724</td>\n",
       "      <td>34.6464</td>\n",
       "    </tr>\n",
       "    <tr>\n",
       "      <th>...</th>\n",
       "      <td>...</td>\n",
       "      <td>...</td>\n",
       "      <td>...</td>\n",
       "      <td>...</td>\n",
       "    </tr>\n",
       "    <tr>\n",
       "      <th>588155</th>\n",
       "      <td>2023-08-30 10:35:00</td>\n",
       "      <td>42.7607</td>\n",
       "      <td>48.8069</td>\n",
       "      <td>29.6012</td>\n",
       "    </tr>\n",
       "    <tr>\n",
       "      <th>588156</th>\n",
       "      <td>2023-08-30 10:36:00</td>\n",
       "      <td>42.6679</td>\n",
       "      <td>49.6149</td>\n",
       "      <td>26.8150</td>\n",
       "    </tr>\n",
       "    <tr>\n",
       "      <th>588157</th>\n",
       "      <td>2023-08-30 10:37:00</td>\n",
       "      <td>45.4780</td>\n",
       "      <td>51.7969</td>\n",
       "      <td>25.4370</td>\n",
       "    </tr>\n",
       "    <tr>\n",
       "      <th>588158</th>\n",
       "      <td>2023-08-30 10:38:00</td>\n",
       "      <td>44.4553</td>\n",
       "      <td>52.2081</td>\n",
       "      <td>25.2467</td>\n",
       "    </tr>\n",
       "    <tr>\n",
       "      <th>588159</th>\n",
       "      <td>2023-08-30 10:39:00</td>\n",
       "      <td>44.4350</td>\n",
       "      <td>52.9664</td>\n",
       "      <td>25.2734</td>\n",
       "    </tr>\n",
       "  </tbody>\n",
       "</table>\n",
       "<p>588160 rows × 4 columns</p>\n",
       "</div>"
      ],
      "text/plain": [
       "                  TIMESTAMP  561_CONSUMPTION(kW)  562_CONSUMPTION(kW)  \\\n",
       "0       2022-07-18 00:00:00              62.1733              67.7842   \n",
       "1       2022-07-18 00:01:00              65.9248              69.0978   \n",
       "2       2022-07-18 00:02:00              65.0934              69.3263   \n",
       "3       2022-07-18 00:03:00              69.8256              67.6393   \n",
       "4       2022-07-18 00:04:00              66.7572              66.2724   \n",
       "...                     ...                  ...                  ...   \n",
       "588155  2023-08-30 10:35:00              42.7607              48.8069   \n",
       "588156  2023-08-30 10:36:00              42.6679              49.6149   \n",
       "588157  2023-08-30 10:37:00              45.4780              51.7969   \n",
       "588158  2023-08-30 10:38:00              44.4553              52.2081   \n",
       "588159  2023-08-30 10:39:00              44.4350              52.9664   \n",
       "\n",
       "        563_CONSUMPTION(kW)  \n",
       "0                   38.3382  \n",
       "1                   37.1818  \n",
       "2                   37.6485  \n",
       "3                   33.9469  \n",
       "4                   34.6464  \n",
       "...                     ...  \n",
       "588155              29.6012  \n",
       "588156              26.8150  \n",
       "588157              25.4370  \n",
       "588158              25.2467  \n",
       "588159              25.2734  \n",
       "\n",
       "[588160 rows x 4 columns]"
      ]
     },
     "execution_count": 9,
     "metadata": {},
     "output_type": "execute_result"
    }
   ],
   "source": [
    "df = pd.read_csv('../preprocessed_data/아파트_동별_소비전력_2022-07-18~2023-08-30.csv', usecols=[1,2,3,4])\n",
    "df"
   ]
  },
  {
   "cell_type": "code",
   "execution_count": 10,
   "metadata": {},
   "outputs": [],
   "source": [
    "df.to_csv('../preprocessed_data/아파트_동별_소비전력_2022-07-18~2023-08-30.csv')"
   ]
  },
  {
   "cell_type": "code",
   "execution_count": 13,
   "metadata": {},
   "outputs": [
    {
     "data": {
      "text/plain": [
       "0"
      ]
     },
     "execution_count": 13,
     "metadata": {},
     "output_type": "execute_result"
    }
   ],
   "source": [
    "df.duplicated(['TIMESTAMP']).sum()"
   ]
  },
  {
   "cell_type": "code",
   "execution_count": null,
   "metadata": {},
   "outputs": [],
   "source": []
  },
  {
   "cell_type": "code",
   "execution_count": null,
   "metadata": {},
   "outputs": [],
   "source": []
  },
  {
   "cell_type": "code",
   "execution_count": null,
   "metadata": {},
   "outputs": [],
   "source": []
  },
  {
   "cell_type": "code",
   "execution_count": 2,
   "metadata": {},
   "outputs": [
    {
     "data": {
      "text/html": [
       "<div>\n",
       "<style scoped>\n",
       "    .dataframe tbody tr th:only-of-type {\n",
       "        vertical-align: middle;\n",
       "    }\n",
       "\n",
       "    .dataframe tbody tr th {\n",
       "        vertical-align: top;\n",
       "    }\n",
       "\n",
       "    .dataframe thead th {\n",
       "        text-align: right;\n",
       "    }\n",
       "</style>\n",
       "<table border=\"1\" class=\"dataframe\">\n",
       "  <thead>\n",
       "    <tr style=\"text-align: right;\">\n",
       "      <th></th>\n",
       "    </tr>\n",
       "  </thead>\n",
       "  <tbody>\n",
       "  </tbody>\n",
       "</table>\n",
       "</div>"
      ],
      "text/plain": [
       "Empty DataFrame\n",
       "Columns: []\n",
       "Index: []"
      ]
     },
     "execution_count": 2,
     "metadata": {},
     "output_type": "execute_result"
    }
   ],
   "source": [
    "df = pd.DataFrame()\n",
    "\n",
    "df"
   ]
  },
  {
   "cell_type": "code",
   "execution_count": 7,
   "metadata": {},
   "outputs": [
    {
     "data": {
      "text/html": [
       "<div>\n",
       "<style scoped>\n",
       "    .dataframe tbody tr th:only-of-type {\n",
       "        vertical-align: middle;\n",
       "    }\n",
       "\n",
       "    .dataframe tbody tr th {\n",
       "        vertical-align: top;\n",
       "    }\n",
       "\n",
       "    .dataframe thead th {\n",
       "        text-align: right;\n",
       "    }\n",
       "</style>\n",
       "<table border=\"1\" class=\"dataframe\">\n",
       "  <thead>\n",
       "    <tr style=\"text-align: right;\">\n",
       "      <th></th>\n",
       "      <th>test</th>\n",
       "      <th>tes1</th>\n",
       "    </tr>\n",
       "  </thead>\n",
       "  <tbody>\n",
       "    <tr>\n",
       "      <th>0</th>\n",
       "      <td>1</td>\n",
       "      <td>2</td>\n",
       "    </tr>\n",
       "  </tbody>\n",
       "</table>\n",
       "</div>"
      ],
      "text/plain": [
       "   test  tes1\n",
       "0     1     2"
      ]
     },
     "execution_count": 7,
     "metadata": {},
     "output_type": "execute_result"
    }
   ],
   "source": [
    "df = pd.concat([df, pd.DataFrame({'test' : [1], 'tes1' : [2]})])\n",
    "\n",
    "df"
   ]
  },
  {
   "cell_type": "code",
   "execution_count": 11,
   "metadata": {},
   "outputs": [
    {
     "data": {
      "text/html": [
       "<div>\n",
       "<style scoped>\n",
       "    .dataframe tbody tr th:only-of-type {\n",
       "        vertical-align: middle;\n",
       "    }\n",
       "\n",
       "    .dataframe tbody tr th {\n",
       "        vertical-align: top;\n",
       "    }\n",
       "\n",
       "    .dataframe thead th {\n",
       "        text-align: right;\n",
       "    }\n",
       "</style>\n",
       "<table border=\"1\" class=\"dataframe\">\n",
       "  <thead>\n",
       "    <tr style=\"text-align: right;\">\n",
       "      <th></th>\n",
       "      <th>test</th>\n",
       "      <th>tes1</th>\n",
       "    </tr>\n",
       "  </thead>\n",
       "  <tbody>\n",
       "    <tr>\n",
       "      <th>0</th>\n",
       "      <td>1</td>\n",
       "      <td>2</td>\n",
       "    </tr>\n",
       "    <tr>\n",
       "      <th>1</th>\n",
       "      <td>2</td>\n",
       "      <td>5</td>\n",
       "    </tr>\n",
       "    <tr>\n",
       "      <th>2</th>\n",
       "      <td>3</td>\n",
       "      <td>5</td>\n",
       "    </tr>\n",
       "    <tr>\n",
       "      <th>3</th>\n",
       "      <td>4</td>\n",
       "      <td>5</td>\n",
       "    </tr>\n",
       "    <tr>\n",
       "      <th>4</th>\n",
       "      <td>2</td>\n",
       "      <td>5</td>\n",
       "    </tr>\n",
       "    <tr>\n",
       "      <th>5</th>\n",
       "      <td>3</td>\n",
       "      <td>5</td>\n",
       "    </tr>\n",
       "    <tr>\n",
       "      <th>6</th>\n",
       "      <td>4</td>\n",
       "      <td>5</td>\n",
       "    </tr>\n",
       "    <tr>\n",
       "      <th>7</th>\n",
       "      <td>2</td>\n",
       "      <td>5</td>\n",
       "    </tr>\n",
       "    <tr>\n",
       "      <th>8</th>\n",
       "      <td>3</td>\n",
       "      <td>5</td>\n",
       "    </tr>\n",
       "    <tr>\n",
       "      <th>9</th>\n",
       "      <td>4</td>\n",
       "      <td>5</td>\n",
       "    </tr>\n",
       "  </tbody>\n",
       "</table>\n",
       "</div>"
      ],
      "text/plain": [
       "   test  tes1\n",
       "0     1     2\n",
       "1     2     5\n",
       "2     3     5\n",
       "3     4     5\n",
       "4     2     5\n",
       "5     3     5\n",
       "6     4     5\n",
       "7     2     5\n",
       "8     3     5\n",
       "9     4     5"
      ]
     },
     "execution_count": 11,
     "metadata": {},
     "output_type": "execute_result"
    }
   ],
   "source": [
    "df = pd.concat([df, pd.DataFrame({'test' : [2,3,4], 'tes1' : [5,5,5]})], ignore_index=True)\n",
    "\n",
    "df"
   ]
  },
  {
   "cell_type": "code",
   "execution_count": 13,
   "metadata": {},
   "outputs": [
    {
     "data": {
      "text/html": [
       "<div>\n",
       "<style scoped>\n",
       "    .dataframe tbody tr th:only-of-type {\n",
       "        vertical-align: middle;\n",
       "    }\n",
       "\n",
       "    .dataframe tbody tr th {\n",
       "        vertical-align: top;\n",
       "    }\n",
       "\n",
       "    .dataframe thead th {\n",
       "        text-align: right;\n",
       "    }\n",
       "</style>\n",
       "<table border=\"1\" class=\"dataframe\">\n",
       "  <thead>\n",
       "    <tr style=\"text-align: right;\">\n",
       "      <th></th>\n",
       "      <th>test</th>\n",
       "      <th>test2</th>\n",
       "    </tr>\n",
       "  </thead>\n",
       "  <tbody>\n",
       "  </tbody>\n",
       "</table>\n",
       "</div>"
      ],
      "text/plain": [
       "Empty DataFrame\n",
       "Columns: [test, test2]\n",
       "Index: []"
      ]
     },
     "execution_count": 13,
     "metadata": {},
     "output_type": "execute_result"
    }
   ],
   "source": [
    "pd.DataFrame({'test':[], 'test2':[]})"
   ]
  }
 ],
 "metadata": {
  "kernelspec": {
   "display_name": "ESS_RL",
   "language": "python",
   "name": "python3"
  },
  "language_info": {
   "codemirror_mode": {
    "name": "ipython",
    "version": 3
   },
   "file_extension": ".py",
   "mimetype": "text/x-python",
   "name": "python",
   "nbconvert_exporter": "python",
   "pygments_lexer": "ipython3",
   "version": "3.9.18"
  },
  "orig_nbformat": 4,
  "vscode": {
   "interpreter": {
    "hash": "09637a3aa389d45ad45ab9af1dcd17b83a34b4608519640f36ecbd316e2c8d6b"
   }
  }
 },
 "nbformat": 4,
 "nbformat_minor": 2
}
