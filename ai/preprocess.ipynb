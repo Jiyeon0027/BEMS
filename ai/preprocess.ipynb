{
 "cells": [
  {
   "cell_type": "code",
   "execution_count": 1,
   "metadata": {},
   "outputs": [],
   "source": [
    "import pandas as pd\n",
    "import numpy as np\n",
    "\n",
    "import datetime\n"
   ]
  },
  {
   "cell_type": "code",
   "execution_count": 2,
   "metadata": {},
   "outputs": [
    {
     "data": {
      "text/html": [
       "<div>\n",
       "<style scoped>\n",
       "    .dataframe tbody tr th:only-of-type {\n",
       "        vertical-align: middle;\n",
       "    }\n",
       "\n",
       "    .dataframe tbody tr th {\n",
       "        vertical-align: top;\n",
       "    }\n",
       "\n",
       "    .dataframe thead th {\n",
       "        text-align: right;\n",
       "    }\n",
       "</style>\n",
       "<table border=\"1\" class=\"dataframe\">\n",
       "  <thead>\n",
       "    <tr style=\"text-align: right;\">\n",
       "      <th></th>\n",
       "      <th>HOUSE_ID_DONG</th>\n",
       "      <th>HOUSE_ID_HO_PRE</th>\n",
       "      <th>METER_DATE</th>\n",
       "      <th>ELEC_INST_EFF</th>\n",
       "    </tr>\n",
       "  </thead>\n",
       "  <tbody>\n",
       "    <tr>\n",
       "      <th>0</th>\n",
       "      <td>561</td>\n",
       "      <td>10</td>\n",
       "      <td>2022-07-18 00:00:25</td>\n",
       "      <td>190</td>\n",
       "    </tr>\n",
       "    <tr>\n",
       "      <th>1</th>\n",
       "      <td>561</td>\n",
       "      <td>10</td>\n",
       "      <td>2022-07-18 00:10:25</td>\n",
       "      <td>191</td>\n",
       "    </tr>\n",
       "    <tr>\n",
       "      <th>2</th>\n",
       "      <td>561</td>\n",
       "      <td>10</td>\n",
       "      <td>2022-07-18 00:20:25</td>\n",
       "      <td>153</td>\n",
       "    </tr>\n",
       "    <tr>\n",
       "      <th>3</th>\n",
       "      <td>561</td>\n",
       "      <td>10</td>\n",
       "      <td>2022-07-18 00:30:19</td>\n",
       "      <td>231</td>\n",
       "    </tr>\n",
       "    <tr>\n",
       "      <th>4</th>\n",
       "      <td>561</td>\n",
       "      <td>10</td>\n",
       "      <td>2022-07-18 00:40:28</td>\n",
       "      <td>169</td>\n",
       "    </tr>\n",
       "    <tr>\n",
       "      <th>...</th>\n",
       "      <td>...</td>\n",
       "      <td>...</td>\n",
       "      <td>...</td>\n",
       "      <td>...</td>\n",
       "    </tr>\n",
       "    <tr>\n",
       "      <th>19969705</th>\n",
       "      <td>563</td>\n",
       "      <td>23</td>\n",
       "      <td>2023-08-30 10:30:08</td>\n",
       "      <td>319</td>\n",
       "    </tr>\n",
       "    <tr>\n",
       "      <th>19969706</th>\n",
       "      <td>563</td>\n",
       "      <td>23</td>\n",
       "      <td>2023-08-30 10:40:08</td>\n",
       "      <td>192</td>\n",
       "    </tr>\n",
       "    <tr>\n",
       "      <th>19969707</th>\n",
       "      <td>563</td>\n",
       "      <td>23</td>\n",
       "      <td>2023-08-30 10:40:08</td>\n",
       "      <td>185</td>\n",
       "    </tr>\n",
       "    <tr>\n",
       "      <th>19969708</th>\n",
       "      <td>563</td>\n",
       "      <td>23</td>\n",
       "      <td>2023-08-30 10:40:08</td>\n",
       "      <td>308</td>\n",
       "    </tr>\n",
       "    <tr>\n",
       "      <th>19969709</th>\n",
       "      <td>563</td>\n",
       "      <td>23</td>\n",
       "      <td>2023-08-30 10:40:08</td>\n",
       "      <td>205</td>\n",
       "    </tr>\n",
       "  </tbody>\n",
       "</table>\n",
       "<p>19969710 rows × 4 columns</p>\n",
       "</div>"
      ],
      "text/plain": [
       "          HOUSE_ID_DONG  HOUSE_ID_HO_PRE           METER_DATE  ELEC_INST_EFF\n",
       "0                   561               10  2022-07-18 00:00:25            190\n",
       "1                   561               10  2022-07-18 00:10:25            191\n",
       "2                   561               10  2022-07-18 00:20:25            153\n",
       "3                   561               10  2022-07-18 00:30:19            231\n",
       "4                   561               10  2022-07-18 00:40:28            169\n",
       "...                 ...              ...                  ...            ...\n",
       "19969705            563               23  2023-08-30 10:30:08            319\n",
       "19969706            563               23  2023-08-30 10:40:08            192\n",
       "19969707            563               23  2023-08-30 10:40:08            185\n",
       "19969708            563               23  2023-08-30 10:40:08            308\n",
       "19969709            563               23  2023-08-30 10:40:08            205\n",
       "\n",
       "[19969710 rows x 4 columns]"
      ]
     },
     "execution_count": 2,
     "metadata": {},
     "output_type": "execute_result"
    }
   ],
   "source": [
    "df = pd.read_csv(\"../raw_data/SM_ELEC_METER_HST_202309251814.csv\", usecols=[0, 1, 3, 5])\n",
    "df"
   ]
  },
  {
   "cell_type": "code",
   "execution_count": 3,
   "metadata": {},
   "outputs": [
    {
     "data": {
      "text/html": [
       "<div>\n",
       "<style scoped>\n",
       "    .dataframe tbody tr th:only-of-type {\n",
       "        vertical-align: middle;\n",
       "    }\n",
       "\n",
       "    .dataframe tbody tr th {\n",
       "        vertical-align: top;\n",
       "    }\n",
       "\n",
       "    .dataframe thead th {\n",
       "        text-align: right;\n",
       "    }\n",
       "</style>\n",
       "<table border=\"1\" class=\"dataframe\">\n",
       "  <thead>\n",
       "    <tr style=\"text-align: right;\">\n",
       "      <th></th>\n",
       "      <th>BUILDING</th>\n",
       "      <th>FLOOR</th>\n",
       "      <th>TIMESTAMP</th>\n",
       "      <th>CONSUMPTION(W)</th>\n",
       "    </tr>\n",
       "  </thead>\n",
       "  <tbody>\n",
       "    <tr>\n",
       "      <th>0</th>\n",
       "      <td>561</td>\n",
       "      <td>10</td>\n",
       "      <td>2022-07-18 00:00:25</td>\n",
       "      <td>190</td>\n",
       "    </tr>\n",
       "    <tr>\n",
       "      <th>1</th>\n",
       "      <td>561</td>\n",
       "      <td>10</td>\n",
       "      <td>2022-07-18 00:10:25</td>\n",
       "      <td>191</td>\n",
       "    </tr>\n",
       "    <tr>\n",
       "      <th>2</th>\n",
       "      <td>561</td>\n",
       "      <td>10</td>\n",
       "      <td>2022-07-18 00:20:25</td>\n",
       "      <td>153</td>\n",
       "    </tr>\n",
       "    <tr>\n",
       "      <th>3</th>\n",
       "      <td>561</td>\n",
       "      <td>10</td>\n",
       "      <td>2022-07-18 00:30:19</td>\n",
       "      <td>231</td>\n",
       "    </tr>\n",
       "    <tr>\n",
       "      <th>4</th>\n",
       "      <td>561</td>\n",
       "      <td>10</td>\n",
       "      <td>2022-07-18 00:40:28</td>\n",
       "      <td>169</td>\n",
       "    </tr>\n",
       "    <tr>\n",
       "      <th>...</th>\n",
       "      <td>...</td>\n",
       "      <td>...</td>\n",
       "      <td>...</td>\n",
       "      <td>...</td>\n",
       "    </tr>\n",
       "    <tr>\n",
       "      <th>19969705</th>\n",
       "      <td>563</td>\n",
       "      <td>23</td>\n",
       "      <td>2023-08-30 10:30:08</td>\n",
       "      <td>319</td>\n",
       "    </tr>\n",
       "    <tr>\n",
       "      <th>19969706</th>\n",
       "      <td>563</td>\n",
       "      <td>23</td>\n",
       "      <td>2023-08-30 10:40:08</td>\n",
       "      <td>192</td>\n",
       "    </tr>\n",
       "    <tr>\n",
       "      <th>19969707</th>\n",
       "      <td>563</td>\n",
       "      <td>23</td>\n",
       "      <td>2023-08-30 10:40:08</td>\n",
       "      <td>185</td>\n",
       "    </tr>\n",
       "    <tr>\n",
       "      <th>19969708</th>\n",
       "      <td>563</td>\n",
       "      <td>23</td>\n",
       "      <td>2023-08-30 10:40:08</td>\n",
       "      <td>308</td>\n",
       "    </tr>\n",
       "    <tr>\n",
       "      <th>19969709</th>\n",
       "      <td>563</td>\n",
       "      <td>23</td>\n",
       "      <td>2023-08-30 10:40:08</td>\n",
       "      <td>205</td>\n",
       "    </tr>\n",
       "  </tbody>\n",
       "</table>\n",
       "<p>19969710 rows × 4 columns</p>\n",
       "</div>"
      ],
      "text/plain": [
       "          BUILDING  FLOOR            TIMESTAMP  CONSUMPTION(W)\n",
       "0              561     10  2022-07-18 00:00:25             190\n",
       "1              561     10  2022-07-18 00:10:25             191\n",
       "2              561     10  2022-07-18 00:20:25             153\n",
       "3              561     10  2022-07-18 00:30:19             231\n",
       "4              561     10  2022-07-18 00:40:28             169\n",
       "...            ...    ...                  ...             ...\n",
       "19969705       563     23  2023-08-30 10:30:08             319\n",
       "19969706       563     23  2023-08-30 10:40:08             192\n",
       "19969707       563     23  2023-08-30 10:40:08             185\n",
       "19969708       563     23  2023-08-30 10:40:08             308\n",
       "19969709       563     23  2023-08-30 10:40:08             205\n",
       "\n",
       "[19969710 rows x 4 columns]"
      ]
     },
     "execution_count": 3,
     "metadata": {},
     "output_type": "execute_result"
    }
   ],
   "source": [
    "df.columns = [\"BUILDING\", \"FLOOR\", \"TIMESTAMP\", \"CONSUMPTION(W)\"]\n",
    "df"
   ]
  },
  {
   "cell_type": "code",
   "execution_count": 4,
   "metadata": {},
   "outputs": [
    {
     "data": {
      "text/plain": [
       "<Axes: >"
      ]
     },
     "execution_count": 4,
     "metadata": {},
     "output_type": "execute_result"
    },
    {
     "data": {
      "image/png": "[encoded data removed]",
      "text/plain": [
       "<Figure size 640x480 with 1 Axes>"
      ]
     },
     "metadata": {},
     "output_type": "display_data"
    }
   ],
   "source": [
    "df[:][\"CONSUMPTION(W)\"].plot()"
   ]
  },
  {
   "cell_type": "code",
   "execution_count": 5,
   "metadata": {},
   "outputs": [
    {
     "name": "stdout",
     "output_type": "stream",
     "text": [
      "<class 'pandas.core.frame.DataFrame'>\n",
      "RangeIndex: 19969710 entries, 0 to 19969709\n",
      "Data columns (total 4 columns):\n",
      " #   Column          Dtype         \n",
      "---  ------          -----         \n",
      " 0   BUILDING        int64         \n",
      " 1   FLOOR           int64         \n",
      " 2   TIMESTAMP       datetime64[ns]\n",
      " 3   CONSUMPTION(W)  int64         \n",
      "dtypes: datetime64[ns](1), int64(3)\n",
      "memory usage: 609.4 MB\n"
     ]
    }
   ],
   "source": [
    "df['TIMESTAMP'] = pd.to_datetime(df['TIMESTAMP'])\n",
    "\n",
    "df.info()"
   ]
  },
  {
   "cell_type": "code",
   "execution_count": 6,
   "metadata": {},
   "outputs": [
    {
     "data": {
      "text/plain": [
       "BUILDING          0\n",
       "FLOOR             0\n",
       "TIMESTAMP         0\n",
       "CONSUMPTION(W)    0\n",
       "dtype: int64"
      ]
     },
     "execution_count": 6,
     "metadata": {},
     "output_type": "execute_result"
    }
   ],
   "source": [
    "df.isna().sum()"
   ]
  },
  {
   "cell_type": "code",
   "execution_count": 7,
   "metadata": {},
   "outputs": [
    {
     "data": {
      "text/html": [
       "<div>\n",
       "<style scoped>\n",
       "    .dataframe tbody tr th:only-of-type {\n",
       "        vertical-align: middle;\n",
       "    }\n",
       "\n",
       "    .dataframe tbody tr th {\n",
       "        vertical-align: top;\n",
       "    }\n",
       "\n",
       "    .dataframe thead th {\n",
       "        text-align: right;\n",
       "    }\n",
       "</style>\n",
       "<table border=\"1\" class=\"dataframe\">\n",
       "  <thead>\n",
       "    <tr style=\"text-align: right;\">\n",
       "      <th></th>\n",
       "      <th>BUILDING</th>\n",
       "      <th>FLOOR</th>\n",
       "      <th>TIMESTAMP</th>\n",
       "      <th>CONSUMPTION(W)</th>\n",
       "    </tr>\n",
       "  </thead>\n",
       "  <tbody>\n",
       "    <tr>\n",
       "      <th>0</th>\n",
       "      <td>561</td>\n",
       "      <td>10</td>\n",
       "      <td>2022-07-18 00:00:00</td>\n",
       "      <td>190</td>\n",
       "    </tr>\n",
       "    <tr>\n",
       "      <th>1</th>\n",
       "      <td>561</td>\n",
       "      <td>10</td>\n",
       "      <td>2022-07-18 00:10:00</td>\n",
       "      <td>191</td>\n",
       "    </tr>\n",
       "    <tr>\n",
       "      <th>2</th>\n",
       "      <td>561</td>\n",
       "      <td>10</td>\n",
       "      <td>2022-07-18 00:20:00</td>\n",
       "      <td>153</td>\n",
       "    </tr>\n",
       "    <tr>\n",
       "      <th>3</th>\n",
       "      <td>561</td>\n",
       "      <td>10</td>\n",
       "      <td>2022-07-18 00:30:00</td>\n",
       "      <td>231</td>\n",
       "    </tr>\n",
       "    <tr>\n",
       "      <th>4</th>\n",
       "      <td>561</td>\n",
       "      <td>10</td>\n",
       "      <td>2022-07-18 00:40:00</td>\n",
       "      <td>169</td>\n",
       "    </tr>\n",
       "    <tr>\n",
       "      <th>...</th>\n",
       "      <td>...</td>\n",
       "      <td>...</td>\n",
       "      <td>...</td>\n",
       "      <td>...</td>\n",
       "    </tr>\n",
       "    <tr>\n",
       "      <th>19969705</th>\n",
       "      <td>563</td>\n",
       "      <td>23</td>\n",
       "      <td>2023-08-30 10:30:00</td>\n",
       "      <td>319</td>\n",
       "    </tr>\n",
       "    <tr>\n",
       "      <th>19969706</th>\n",
       "      <td>563</td>\n",
       "      <td>23</td>\n",
       "      <td>2023-08-30 10:40:00</td>\n",
       "      <td>192</td>\n",
       "    </tr>\n",
       "    <tr>\n",
       "      <th>19969707</th>\n",
       "      <td>563</td>\n",
       "      <td>23</td>\n",
       "      <td>2023-08-30 10:40:00</td>\n",
       "      <td>185</td>\n",
       "    </tr>\n",
       "    <tr>\n",
       "      <th>19969708</th>\n",
       "      <td>563</td>\n",
       "      <td>23</td>\n",
       "      <td>2023-08-30 10:40:00</td>\n",
       "      <td>308</td>\n",
       "    </tr>\n",
       "    <tr>\n",
       "      <th>19969709</th>\n",
       "      <td>563</td>\n",
       "      <td>23</td>\n",
       "      <td>2023-08-30 10:40:00</td>\n",
       "      <td>205</td>\n",
       "    </tr>\n",
       "  </tbody>\n",
       "</table>\n",
       "<p>19969710 rows × 4 columns</p>\n",
       "</div>"
      ],
      "text/plain": [
       "          BUILDING  FLOOR           TIMESTAMP  CONSUMPTION(W)\n",
       "0              561     10 2022-07-18 00:00:00             190\n",
       "1              561     10 2022-07-18 00:10:00             191\n",
       "2              561     10 2022-07-18 00:20:00             153\n",
       "3              561     10 2022-07-18 00:30:00             231\n",
       "4              561     10 2022-07-18 00:40:00             169\n",
       "...            ...    ...                 ...             ...\n",
       "19969705       563     23 2023-08-30 10:30:00             319\n",
       "19969706       563     23 2023-08-30 10:40:00             192\n",
       "19969707       563     23 2023-08-30 10:40:00             185\n",
       "19969708       563     23 2023-08-30 10:40:00             308\n",
       "19969709       563     23 2023-08-30 10:40:00             205\n",
       "\n",
       "[19969710 rows x 4 columns]"
      ]
     },
     "execution_count": 7,
     "metadata": {},
     "output_type": "execute_result"
    }
   ],
   "source": [
    "for i, row in df.iterrows():\n",
    "    df.at[i,'TIMESTAMP'] = row['TIMESTAMP'].replace(second = 0)\n",
    "    \n",
    "df"
   ]
  },
  {
   "cell_type": "code",
   "execution_count": 8,
   "metadata": {},
   "outputs": [
    {
     "data": {
      "text/plain": [
       "<Axes: >"
      ]
     },
     "execution_count": 8,
     "metadata": {},
     "output_type": "execute_result"
    },
    {
     "data": {
      "image/png": "[encoded data removed]",
      "text/plain": [
       "<Figure size 640x480 with 1 Axes>"
      ]
     },
     "metadata": {},
     "output_type": "display_data"
    }
   ],
   "source": [
    "df.query(\"`BUILDING` == 561 & `FLOOR` == 10\")['TIMESTAMP'].plot()"
   ]
  },
  {
   "cell_type": "code",
   "execution_count": 9,
   "metadata": {},
   "outputs": [
    {
     "data": {
      "text/plain": [
       "<Axes: >"
      ]
     },
     "execution_count": 9,
     "metadata": {},
     "output_type": "execute_result"
    },
    {
     "data": {
      "image/png": "[encoded data removed]",
      "text/plain": [
       "<Figure size 640x480 with 1 Axes>"
      ]
     },
     "metadata": {},
     "output_type": "display_data"
    }
   ],
   "source": [
    "df.query(\"`BUILDING` == 561 & `FLOOR` == 10\")[57400:57500]['TIMESTAMP'].plot()"
   ]
  },
  {
   "cell_type": "code",
   "execution_count": 10,
   "metadata": {},
   "outputs": [
    {
     "data": {
      "text/plain": [
       "<Axes: >"
      ]
     },
     "execution_count": 10,
     "metadata": {},
     "output_type": "execute_result"
    },
    {
     "data": {
      "image/png": "[encoded data removed]",
      "text/plain": [
       "<Figure size 640x480 with 1 Axes>"
      ]
     },
     "metadata": {},
     "output_type": "display_data"
    }
   ],
   "source": [
    "df_561_10 = df.query(\"`BUILDING` == 561 & `FLOOR` == 10\")\n",
    "df_561_10['TIMESTAMP'].plot()"
   ]
  },
  {
   "cell_type": "code",
   "execution_count": 11,
   "metadata": {},
   "outputs": [
    {
     "data": {
      "text/plain": [
       "<Axes: >"
      ]
     },
     "execution_count": 11,
     "metadata": {},
     "output_type": "execute_result"
    },
    {
     "data": {
      "image/png": "[encoded data removed]",
      "text/plain": [
       "<Figure size 640x480 with 1 Axes>"
      ]
     },
     "metadata": {},
     "output_type": "display_data"
    }
   ],
   "source": [
    "df.query(\"`BUILDING` == 561 & `FLOOR` == 4\")['TIMESTAMP'].plot()"
   ]
  },
  {
   "cell_type": "code",
   "execution_count": 12,
   "metadata": {},
   "outputs": [
    {
     "data": {
      "text/plain": [
       "<Axes: >"
      ]
     },
     "execution_count": 12,
     "metadata": {},
     "output_type": "execute_result"
    },
    {
     "data": {
      "image/png": "[encoded data removed]",
      "text/plain": [
       "<Figure size 640x480 with 1 Axes>"
      ]
     },
     "metadata": {},
     "output_type": "display_data"
    }
   ],
   "source": [
    "test = df_561_10.sort_values(by='TIMESTAMP')\n",
    "test['TIMESTAMP'].plot()"
   ]
  },
  {
   "cell_type": "code",
   "execution_count": 13,
   "metadata": {},
   "outputs": [
    {
     "data": {
      "text/html": [
       "<div>\n",
       "<style scoped>\n",
       "    .dataframe tbody tr th:only-of-type {\n",
       "        vertical-align: middle;\n",
       "    }\n",
       "\n",
       "    .dataframe tbody tr th {\n",
       "        vertical-align: top;\n",
       "    }\n",
       "\n",
       "    .dataframe thead th {\n",
       "        text-align: right;\n",
       "    }\n",
       "</style>\n",
       "<table border=\"1\" class=\"dataframe\">\n",
       "  <thead>\n",
       "    <tr style=\"text-align: right;\">\n",
       "      <th></th>\n",
       "      <th>BUILDING</th>\n",
       "      <th>FLOOR</th>\n",
       "      <th>TIMESTAMP</th>\n",
       "      <th>CONSUMPTION(W)</th>\n",
       "    </tr>\n",
       "  </thead>\n",
       "  <tbody>\n",
       "    <tr>\n",
       "      <th>0</th>\n",
       "      <td>561</td>\n",
       "      <td>10</td>\n",
       "      <td>2022-07-18 00:00:00</td>\n",
       "      <td>190</td>\n",
       "    </tr>\n",
       "    <tr>\n",
       "      <th>1377841</th>\n",
       "      <td>561</td>\n",
       "      <td>10</td>\n",
       "      <td>2022-07-18 00:00:00</td>\n",
       "      <td>165</td>\n",
       "    </tr>\n",
       "    <tr>\n",
       "      <th>2698237</th>\n",
       "      <td>561</td>\n",
       "      <td>10</td>\n",
       "      <td>2022-07-18 00:00:00</td>\n",
       "      <td>603</td>\n",
       "    </tr>\n",
       "    <tr>\n",
       "      <th>1090773</th>\n",
       "      <td>561</td>\n",
       "      <td>10</td>\n",
       "      <td>2022-07-18 00:00:00</td>\n",
       "      <td>264</td>\n",
       "    </tr>\n",
       "    <tr>\n",
       "      <th>2698238</th>\n",
       "      <td>561</td>\n",
       "      <td>10</td>\n",
       "      <td>2022-07-18 00:10:00</td>\n",
       "      <td>551</td>\n",
       "    </tr>\n",
       "    <tr>\n",
       "      <th>1090774</th>\n",
       "      <td>561</td>\n",
       "      <td>10</td>\n",
       "      <td>2022-07-18 00:10:00</td>\n",
       "      <td>107</td>\n",
       "    </tr>\n",
       "    <tr>\n",
       "      <th>1377842</th>\n",
       "      <td>561</td>\n",
       "      <td>10</td>\n",
       "      <td>2022-07-18 00:10:00</td>\n",
       "      <td>138</td>\n",
       "    </tr>\n",
       "    <tr>\n",
       "      <th>1</th>\n",
       "      <td>561</td>\n",
       "      <td>10</td>\n",
       "      <td>2022-07-18 00:10:00</td>\n",
       "      <td>191</td>\n",
       "    </tr>\n",
       "    <tr>\n",
       "      <th>2698239</th>\n",
       "      <td>561</td>\n",
       "      <td>10</td>\n",
       "      <td>2022-07-18 00:20:00</td>\n",
       "      <td>916</td>\n",
       "    </tr>\n",
       "    <tr>\n",
       "      <th>1377843</th>\n",
       "      <td>561</td>\n",
       "      <td>10</td>\n",
       "      <td>2022-07-18 00:20:00</td>\n",
       "      <td>317</td>\n",
       "    </tr>\n",
       "    <tr>\n",
       "      <th>1090775</th>\n",
       "      <td>561</td>\n",
       "      <td>10</td>\n",
       "      <td>2022-07-18 00:20:00</td>\n",
       "      <td>389</td>\n",
       "    </tr>\n",
       "    <tr>\n",
       "      <th>2</th>\n",
       "      <td>561</td>\n",
       "      <td>10</td>\n",
       "      <td>2022-07-18 00:20:00</td>\n",
       "      <td>153</td>\n",
       "    </tr>\n",
       "    <tr>\n",
       "      <th>3</th>\n",
       "      <td>561</td>\n",
       "      <td>10</td>\n",
       "      <td>2022-07-18 00:30:00</td>\n",
       "      <td>231</td>\n",
       "    </tr>\n",
       "    <tr>\n",
       "      <th>2698240</th>\n",
       "      <td>561</td>\n",
       "      <td>10</td>\n",
       "      <td>2022-07-18 00:30:00</td>\n",
       "      <td>777</td>\n",
       "    </tr>\n",
       "    <tr>\n",
       "      <th>1377844</th>\n",
       "      <td>561</td>\n",
       "      <td>10</td>\n",
       "      <td>2022-07-18 00:30:00</td>\n",
       "      <td>215</td>\n",
       "    </tr>\n",
       "    <tr>\n",
       "      <th>1090776</th>\n",
       "      <td>561</td>\n",
       "      <td>10</td>\n",
       "      <td>2022-07-18 00:30:00</td>\n",
       "      <td>580</td>\n",
       "    </tr>\n",
       "    <tr>\n",
       "      <th>2698241</th>\n",
       "      <td>561</td>\n",
       "      <td>10</td>\n",
       "      <td>2022-07-18 00:40:00</td>\n",
       "      <td>815</td>\n",
       "    </tr>\n",
       "    <tr>\n",
       "      <th>1090777</th>\n",
       "      <td>561</td>\n",
       "      <td>10</td>\n",
       "      <td>2022-07-18 00:40:00</td>\n",
       "      <td>437</td>\n",
       "    </tr>\n",
       "    <tr>\n",
       "      <th>1377845</th>\n",
       "      <td>561</td>\n",
       "      <td>10</td>\n",
       "      <td>2022-07-18 00:40:00</td>\n",
       "      <td>220</td>\n",
       "    </tr>\n",
       "    <tr>\n",
       "      <th>4</th>\n",
       "      <td>561</td>\n",
       "      <td>10</td>\n",
       "      <td>2022-07-18 00:40:00</td>\n",
       "      <td>169</td>\n",
       "    </tr>\n",
       "    <tr>\n",
       "      <th>5</th>\n",
       "      <td>561</td>\n",
       "      <td>10</td>\n",
       "      <td>2022-07-18 00:50:00</td>\n",
       "      <td>128</td>\n",
       "    </tr>\n",
       "    <tr>\n",
       "      <th>1377846</th>\n",
       "      <td>561</td>\n",
       "      <td>10</td>\n",
       "      <td>2022-07-18 00:50:00</td>\n",
       "      <td>360</td>\n",
       "    </tr>\n",
       "    <tr>\n",
       "      <th>1090778</th>\n",
       "      <td>561</td>\n",
       "      <td>10</td>\n",
       "      <td>2022-07-18 00:50:00</td>\n",
       "      <td>356</td>\n",
       "    </tr>\n",
       "    <tr>\n",
       "      <th>2698242</th>\n",
       "      <td>561</td>\n",
       "      <td>10</td>\n",
       "      <td>2022-07-18 00:50:00</td>\n",
       "      <td>757</td>\n",
       "    </tr>\n",
       "    <tr>\n",
       "      <th>6</th>\n",
       "      <td>561</td>\n",
       "      <td>10</td>\n",
       "      <td>2022-07-18 01:00:00</td>\n",
       "      <td>207</td>\n",
       "    </tr>\n",
       "    <tr>\n",
       "      <th>2698243</th>\n",
       "      <td>561</td>\n",
       "      <td>10</td>\n",
       "      <td>2022-07-18 01:00:00</td>\n",
       "      <td>677</td>\n",
       "    </tr>\n",
       "    <tr>\n",
       "      <th>1377847</th>\n",
       "      <td>561</td>\n",
       "      <td>10</td>\n",
       "      <td>2022-07-18 01:00:00</td>\n",
       "      <td>301</td>\n",
       "    </tr>\n",
       "    <tr>\n",
       "      <th>1090779</th>\n",
       "      <td>561</td>\n",
       "      <td>10</td>\n",
       "      <td>2022-07-18 01:00:00</td>\n",
       "      <td>378</td>\n",
       "    </tr>\n",
       "    <tr>\n",
       "      <th>1090780</th>\n",
       "      <td>561</td>\n",
       "      <td>10</td>\n",
       "      <td>2022-07-18 01:10:00</td>\n",
       "      <td>305</td>\n",
       "    </tr>\n",
       "    <tr>\n",
       "      <th>2698244</th>\n",
       "      <td>561</td>\n",
       "      <td>10</td>\n",
       "      <td>2022-07-18 01:10:00</td>\n",
       "      <td>636</td>\n",
       "    </tr>\n",
       "    <tr>\n",
       "      <th>1377848</th>\n",
       "      <td>561</td>\n",
       "      <td>10</td>\n",
       "      <td>2022-07-18 01:10:00</td>\n",
       "      <td>287</td>\n",
       "    </tr>\n",
       "    <tr>\n",
       "      <th>7</th>\n",
       "      <td>561</td>\n",
       "      <td>10</td>\n",
       "      <td>2022-07-18 01:10:00</td>\n",
       "      <td>174</td>\n",
       "    </tr>\n",
       "    <tr>\n",
       "      <th>1377849</th>\n",
       "      <td>561</td>\n",
       "      <td>10</td>\n",
       "      <td>2022-07-18 01:20:00</td>\n",
       "      <td>120</td>\n",
       "    </tr>\n",
       "    <tr>\n",
       "      <th>2698245</th>\n",
       "      <td>561</td>\n",
       "      <td>10</td>\n",
       "      <td>2022-07-18 01:20:00</td>\n",
       "      <td>620</td>\n",
       "    </tr>\n",
       "    <tr>\n",
       "      <th>1090781</th>\n",
       "      <td>561</td>\n",
       "      <td>10</td>\n",
       "      <td>2022-07-18 01:20:00</td>\n",
       "      <td>217</td>\n",
       "    </tr>\n",
       "    <tr>\n",
       "      <th>8</th>\n",
       "      <td>561</td>\n",
       "      <td>10</td>\n",
       "      <td>2022-07-18 01:20:00</td>\n",
       "      <td>130</td>\n",
       "    </tr>\n",
       "    <tr>\n",
       "      <th>2698246</th>\n",
       "      <td>561</td>\n",
       "      <td>10</td>\n",
       "      <td>2022-07-18 01:30:00</td>\n",
       "      <td>663</td>\n",
       "    </tr>\n",
       "    <tr>\n",
       "      <th>1090782</th>\n",
       "      <td>561</td>\n",
       "      <td>10</td>\n",
       "      <td>2022-07-18 01:30:00</td>\n",
       "      <td>688</td>\n",
       "    </tr>\n",
       "    <tr>\n",
       "      <th>9</th>\n",
       "      <td>561</td>\n",
       "      <td>10</td>\n",
       "      <td>2022-07-18 01:30:00</td>\n",
       "      <td>116</td>\n",
       "    </tr>\n",
       "    <tr>\n",
       "      <th>1377850</th>\n",
       "      <td>561</td>\n",
       "      <td>10</td>\n",
       "      <td>2022-07-18 01:30:00</td>\n",
       "      <td>429</td>\n",
       "    </tr>\n",
       "    <tr>\n",
       "      <th>1377851</th>\n",
       "      <td>561</td>\n",
       "      <td>10</td>\n",
       "      <td>2022-07-18 01:40:00</td>\n",
       "      <td>299</td>\n",
       "    </tr>\n",
       "    <tr>\n",
       "      <th>10</th>\n",
       "      <td>561</td>\n",
       "      <td>10</td>\n",
       "      <td>2022-07-18 01:40:00</td>\n",
       "      <td>123</td>\n",
       "    </tr>\n",
       "    <tr>\n",
       "      <th>2698247</th>\n",
       "      <td>561</td>\n",
       "      <td>10</td>\n",
       "      <td>2022-07-18 01:40:00</td>\n",
       "      <td>670</td>\n",
       "    </tr>\n",
       "    <tr>\n",
       "      <th>1090783</th>\n",
       "      <td>561</td>\n",
       "      <td>10</td>\n",
       "      <td>2022-07-18 01:40:00</td>\n",
       "      <td>242</td>\n",
       "    </tr>\n",
       "    <tr>\n",
       "      <th>1090784</th>\n",
       "      <td>561</td>\n",
       "      <td>10</td>\n",
       "      <td>2022-07-18 01:50:00</td>\n",
       "      <td>344</td>\n",
       "    </tr>\n",
       "    <tr>\n",
       "      <th>1377852</th>\n",
       "      <td>561</td>\n",
       "      <td>10</td>\n",
       "      <td>2022-07-18 01:50:00</td>\n",
       "      <td>348</td>\n",
       "    </tr>\n",
       "    <tr>\n",
       "      <th>2698248</th>\n",
       "      <td>561</td>\n",
       "      <td>10</td>\n",
       "      <td>2022-07-18 01:50:00</td>\n",
       "      <td>738</td>\n",
       "    </tr>\n",
       "    <tr>\n",
       "      <th>11</th>\n",
       "      <td>561</td>\n",
       "      <td>10</td>\n",
       "      <td>2022-07-18 01:50:00</td>\n",
       "      <td>179</td>\n",
       "    </tr>\n",
       "    <tr>\n",
       "      <th>12</th>\n",
       "      <td>561</td>\n",
       "      <td>10</td>\n",
       "      <td>2022-07-18 02:00:00</td>\n",
       "      <td>106</td>\n",
       "    </tr>\n",
       "    <tr>\n",
       "      <th>1377853</th>\n",
       "      <td>561</td>\n",
       "      <td>10</td>\n",
       "      <td>2022-07-18 02:00:00</td>\n",
       "      <td>369</td>\n",
       "    </tr>\n",
       "  </tbody>\n",
       "</table>\n",
       "</div>"
      ],
      "text/plain": [
       "         BUILDING  FLOOR           TIMESTAMP  CONSUMPTION(W)\n",
       "0             561     10 2022-07-18 00:00:00             190\n",
       "1377841       561     10 2022-07-18 00:00:00             165\n",
       "2698237       561     10 2022-07-18 00:00:00             603\n",
       "1090773       561     10 2022-07-18 00:00:00             264\n",
       "2698238       561     10 2022-07-18 00:10:00             551\n",
       "1090774       561     10 2022-07-18 00:10:00             107\n",
       "1377842       561     10 2022-07-18 00:10:00             138\n",
       "1             561     10 2022-07-18 00:10:00             191\n",
       "2698239       561     10 2022-07-18 00:20:00             916\n",
       "1377843       561     10 2022-07-18 00:20:00             317\n",
       "1090775       561     10 2022-07-18 00:20:00             389\n",
       "2             561     10 2022-07-18 00:20:00             153\n",
       "3             561     10 2022-07-18 00:30:00             231\n",
       "2698240       561     10 2022-07-18 00:30:00             777\n",
       "1377844       561     10 2022-07-18 00:30:00             215\n",
       "1090776       561     10 2022-07-18 00:30:00             580\n",
       "2698241       561     10 2022-07-18 00:40:00             815\n",
       "1090777       561     10 2022-07-18 00:40:00             437\n",
       "1377845       561     10 2022-07-18 00:40:00             220\n",
       "4             561     10 2022-07-18 00:40:00             169\n",
       "5             561     10 2022-07-18 00:50:00             128\n",
       "1377846       561     10 2022-07-18 00:50:00             360\n",
       "1090778       561     10 2022-07-18 00:50:00             356\n",
       "2698242       561     10 2022-07-18 00:50:00             757\n",
       "6             561     10 2022-07-18 01:00:00             207\n",
       "2698243       561     10 2022-07-18 01:00:00             677\n",
       "1377847       561     10 2022-07-18 01:00:00             301\n",
       "1090779       561     10 2022-07-18 01:00:00             378\n",
       "1090780       561     10 2022-07-18 01:10:00             305\n",
       "2698244       561     10 2022-07-18 01:10:00             636\n",
       "1377848       561     10 2022-07-18 01:10:00             287\n",
       "7             561     10 2022-07-18 01:10:00             174\n",
       "1377849       561     10 2022-07-18 01:20:00             120\n",
       "2698245       561     10 2022-07-18 01:20:00             620\n",
       "1090781       561     10 2022-07-18 01:20:00             217\n",
       "8             561     10 2022-07-18 01:20:00             130\n",
       "2698246       561     10 2022-07-18 01:30:00             663\n",
       "1090782       561     10 2022-07-18 01:30:00             688\n",
       "9             561     10 2022-07-18 01:30:00             116\n",
       "1377850       561     10 2022-07-18 01:30:00             429\n",
       "1377851       561     10 2022-07-18 01:40:00             299\n",
       "10            561     10 2022-07-18 01:40:00             123\n",
       "2698247       561     10 2022-07-18 01:40:00             670\n",
       "1090783       561     10 2022-07-18 01:40:00             242\n",
       "1090784       561     10 2022-07-18 01:50:00             344\n",
       "1377852       561     10 2022-07-18 01:50:00             348\n",
       "2698248       561     10 2022-07-18 01:50:00             738\n",
       "11            561     10 2022-07-18 01:50:00             179\n",
       "12            561     10 2022-07-18 02:00:00             106\n",
       "1377853       561     10 2022-07-18 02:00:00             369"
      ]
     },
     "execution_count": 13,
     "metadata": {},
     "output_type": "execute_result"
    }
   ],
   "source": [
    "test.head(50)"
   ]
  },
  {
   "cell_type": "code",
   "execution_count": 14,
   "metadata": {},
   "outputs": [
    {
     "data": {
      "text/plain": [
       "Timestamp('2023-08-30 10:40:00')"
      ]
     },
     "execution_count": 14,
     "metadata": {},
     "output_type": "execute_result"
    }
   ],
   "source": [
    "end_time = df_561_10.tail(1)['TIMESTAMP'].item()\n",
    "end_time"
   ]
  },
  {
   "cell_type": "code",
   "execution_count": 24,
   "metadata": {},
   "outputs": [
    {
     "data": {
      "text/html": [
       "<div>\n",
       "<style scoped>\n",
       "    .dataframe tbody tr th:only-of-type {\n",
       "        vertical-align: middle;\n",
       "    }\n",
       "\n",
       "    .dataframe tbody tr th {\n",
       "        vertical-align: top;\n",
       "    }\n",
       "\n",
       "    .dataframe thead th {\n",
       "        text-align: right;\n",
       "    }\n",
       "</style>\n",
       "<table border=\"1\" class=\"dataframe\">\n",
       "  <thead>\n",
       "    <tr style=\"text-align: right;\">\n",
       "      <th></th>\n",
       "      <th>BUILDING</th>\n",
       "      <th>FLOOR</th>\n",
       "      <th>TIMESTAMP</th>\n",
       "      <th>CONSUMPTION(W)</th>\n",
       "    </tr>\n",
       "  </thead>\n",
       "  <tbody>\n",
       "    <tr>\n",
       "      <th>57399</th>\n",
       "      <td>561</td>\n",
       "      <td>10</td>\n",
       "      <td>2023-08-30 10:40:00</td>\n",
       "      <td>144</td>\n",
       "    </tr>\n",
       "    <tr>\n",
       "      <th>57400</th>\n",
       "      <td>561</td>\n",
       "      <td>10</td>\n",
       "      <td>2023-08-30 10:40:00</td>\n",
       "      <td>138</td>\n",
       "    </tr>\n",
       "    <tr>\n",
       "      <th>57401</th>\n",
       "      <td>561</td>\n",
       "      <td>10</td>\n",
       "      <td>2023-08-30 10:40:00</td>\n",
       "      <td>168</td>\n",
       "    </tr>\n",
       "    <tr>\n",
       "      <th>57402</th>\n",
       "      <td>561</td>\n",
       "      <td>10</td>\n",
       "      <td>2023-08-30 10:40:00</td>\n",
       "      <td>121</td>\n",
       "    </tr>\n",
       "    <tr>\n",
       "      <th>1148186</th>\n",
       "      <td>561</td>\n",
       "      <td>10</td>\n",
       "      <td>2023-08-30 10:40:00</td>\n",
       "      <td>141</td>\n",
       "    </tr>\n",
       "    <tr>\n",
       "      <th>1148187</th>\n",
       "      <td>561</td>\n",
       "      <td>10</td>\n",
       "      <td>2023-08-30 10:40:00</td>\n",
       "      <td>133</td>\n",
       "    </tr>\n",
       "    <tr>\n",
       "      <th>1148188</th>\n",
       "      <td>561</td>\n",
       "      <td>10</td>\n",
       "      <td>2023-08-30 10:40:00</td>\n",
       "      <td>184</td>\n",
       "    </tr>\n",
       "    <tr>\n",
       "      <th>1148189</th>\n",
       "      <td>561</td>\n",
       "      <td>10</td>\n",
       "      <td>2023-08-30 10:40:00</td>\n",
       "      <td>31</td>\n",
       "    </tr>\n",
       "    <tr>\n",
       "      <th>1435255</th>\n",
       "      <td>561</td>\n",
       "      <td>10</td>\n",
       "      <td>2023-08-30 10:40:00</td>\n",
       "      <td>484</td>\n",
       "    </tr>\n",
       "    <tr>\n",
       "      <th>1435256</th>\n",
       "      <td>561</td>\n",
       "      <td>10</td>\n",
       "      <td>2023-08-30 10:40:00</td>\n",
       "      <td>227</td>\n",
       "    </tr>\n",
       "    <tr>\n",
       "      <th>1435257</th>\n",
       "      <td>561</td>\n",
       "      <td>10</td>\n",
       "      <td>2023-08-30 10:40:00</td>\n",
       "      <td>165</td>\n",
       "    </tr>\n",
       "    <tr>\n",
       "      <th>1435258</th>\n",
       "      <td>561</td>\n",
       "      <td>10</td>\n",
       "      <td>2023-08-30 10:40:00</td>\n",
       "      <td>440</td>\n",
       "    </tr>\n",
       "    <tr>\n",
       "      <th>2755644</th>\n",
       "      <td>561</td>\n",
       "      <td>10</td>\n",
       "      <td>2023-08-30 10:40:00</td>\n",
       "      <td>234</td>\n",
       "    </tr>\n",
       "    <tr>\n",
       "      <th>2755645</th>\n",
       "      <td>561</td>\n",
       "      <td>10</td>\n",
       "      <td>2023-08-30 10:40:00</td>\n",
       "      <td>275</td>\n",
       "    </tr>\n",
       "    <tr>\n",
       "      <th>2755646</th>\n",
       "      <td>561</td>\n",
       "      <td>10</td>\n",
       "      <td>2023-08-30 10:40:00</td>\n",
       "      <td>242</td>\n",
       "    </tr>\n",
       "    <tr>\n",
       "      <th>2755647</th>\n",
       "      <td>561</td>\n",
       "      <td>10</td>\n",
       "      <td>2023-08-30 10:40:00</td>\n",
       "      <td>244</td>\n",
       "    </tr>\n",
       "  </tbody>\n",
       "</table>\n",
       "</div>"
      ],
      "text/plain": [
       "         BUILDING  FLOOR           TIMESTAMP  CONSUMPTION(W)\n",
       "57399         561     10 2023-08-30 10:40:00             144\n",
       "57400         561     10 2023-08-30 10:40:00             138\n",
       "57401         561     10 2023-08-30 10:40:00             168\n",
       "57402         561     10 2023-08-30 10:40:00             121\n",
       "1148186       561     10 2023-08-30 10:40:00             141\n",
       "1148187       561     10 2023-08-30 10:40:00             133\n",
       "1148188       561     10 2023-08-30 10:40:00             184\n",
       "1148189       561     10 2023-08-30 10:40:00              31\n",
       "1435255       561     10 2023-08-30 10:40:00             484\n",
       "1435256       561     10 2023-08-30 10:40:00             227\n",
       "1435257       561     10 2023-08-30 10:40:00             165\n",
       "1435258       561     10 2023-08-30 10:40:00             440\n",
       "2755644       561     10 2023-08-30 10:40:00             234\n",
       "2755645       561     10 2023-08-30 10:40:00             275\n",
       "2755646       561     10 2023-08-30 10:40:00             242\n",
       "2755647       561     10 2023-08-30 10:40:00             244"
      ]
     },
     "execution_count": 24,
     "metadata": {},
     "output_type": "execute_result"
    }
   ],
   "source": [
    "df_561_10.query('`TIMESTAMP` == @end_time')"
   ]
  },
  {
   "cell_type": "code",
   "execution_count": 16,
   "metadata": {},
   "outputs": [
    {
     "data": {
      "text/plain": [
       "1205603     1\n",
       "401852      2\n",
       "114814      3\n",
       "2066740     4\n",
       "1550095     5\n",
       "574092      6\n",
       "516681      7\n",
       "172208      8\n",
       "688893      9\n",
       "0          10\n",
       "803716     11\n",
       "57403      12\n",
       "459272     13\n",
       "1664918    14\n",
       "861129     15\n",
       "229613     16\n",
       "287025     17\n",
       "344439     18\n",
       "Name: FLOOR, dtype: int64"
      ]
     },
     "execution_count": 16,
     "metadata": {},
     "output_type": "execute_result"
    }
   ],
   "source": [
    "df.query(\"`BUILDING` == 561\")['FLOOR'].drop_duplicates().sort_values()"
   ]
  },
  {
   "cell_type": "code",
   "execution_count": 17,
   "metadata": {},
   "outputs": [
    {
     "data": {
      "text/plain": [
       "6997122     1\n",
       "5393484     2\n",
       "4362600     3\n",
       "4190771     4\n",
       "4878039     5\n",
       "5737321     6\n",
       "5565350     7\n",
       "4820756     8\n",
       "5450774     9\n",
       "4133481    10\n",
       "5622644    11\n",
       "4305362    12\n",
       "4419874    13\n",
       "5966195    14\n",
       "6252504    15\n",
       "4992676    16\n",
       "4649038    17\n",
       "5279002    18\n",
       "4534576    19\n",
       "4248067    20\n",
       "5107092    21\n",
       "4591747    22\n",
       "6538973    23\n",
       "7799107    24\n",
       "Name: FLOOR, dtype: int64"
      ]
     },
     "execution_count": 17,
     "metadata": {},
     "output_type": "execute_result"
    }
   ],
   "source": [
    "df.query(\"`BUILDING` == 562\")['FLOOR'].drop_duplicates().sort_values()"
   ]
  },
  {
   "cell_type": "code",
   "execution_count": 18,
   "metadata": {},
   "outputs": [
    {
     "data": {
      "text/plain": [
       "14907002     1\n",
       "13299696     2\n",
       "12266375     3\n",
       "12094153     4\n",
       "12783017     5\n",
       "13644125     6\n",
       "13471891     7\n",
       "12725626     8\n",
       "13357092     9\n",
       "12036750    10\n",
       "13529305    11\n",
       "12208967    12\n",
       "12323771    13\n",
       "13873756    14\n",
       "14160755    15\n",
       "12897838    16\n",
       "12553396    17\n",
       "13184882    18\n",
       "12438581    19\n",
       "12151558    20\n",
       "13012663    21\n",
       "12495995    22\n",
       "15653338    23\n",
       "14447760    24\n",
       "Name: FLOOR, dtype: int64"
      ]
     },
     "execution_count": 18,
     "metadata": {},
     "output_type": "execute_result"
    }
   ],
   "source": [
    "df.query(\"`BUILDING` == 563\")['FLOOR'].drop_duplicates().sort_values()"
   ]
  },
  {
   "cell_type": "code",
   "execution_count": 19,
   "metadata": {},
   "outputs": [
    {
     "data": {
      "text/plain": [
       "<Axes: >"
      ]
     },
     "execution_count": 19,
     "metadata": {},
     "output_type": "execute_result"
    },
    {
     "data": {
      "image/png": "[encoded data removed]",
      "text/plain": [
       "<Figure size 640x480 with 1 Axes>"
      ]
     },
     "metadata": {},
     "output_type": "display_data"
    }
   ],
   "source": [
    "df_561_10[:57399]['TIMESTAMP'].plot()"
   ]
  },
  {
   "cell_type": "code",
   "execution_count": 20,
   "metadata": {},
   "outputs": [],
   "source": [
    "buildings = df['BUILDING'].drop_duplicates().values"
   ]
  },
  {
   "cell_type": "code",
   "execution_count": 21,
   "metadata": {},
   "outputs": [],
   "source": [
    "floors = df.query(\"`BUILDING` == @buildings[0]\")['FLOOR'].drop_duplicates().sort_values().values"
   ]
  },
  {
   "cell_type": "code",
   "execution_count": 22,
   "metadata": {},
   "outputs": [
    {
     "name": "stdout",
     "output_type": "stream",
     "text": [
      "`BUILDING` == @buildings[561]\n",
      "`BUILDING` == @buildings[562]\n",
      "`BUILDING` == @buildings[563]\n"
     ]
    }
   ],
   "source": [
    "for b in buildings:\n",
    "    print(f\"`BUILDING` == @buildings[{b}]\")"
   ]
  },
  {
   "cell_type": "code",
   "execution_count": 23,
   "metadata": {},
   "outputs": [
    {
     "data": {
      "text/plain": [
       "numpy.datetime64('2023-08-30T10:40:00.000000000')"
      ]
     },
     "execution_count": 23,
     "metadata": {},
     "output_type": "execute_result"
    }
   ],
   "source": [
    "END_TIME = df.tail(1)['TIMESTAMP'].values[0]\n",
    "END_TIME"
   ]
  },
  {
   "cell_type": "code",
   "execution_count": 25,
   "metadata": {},
   "outputs": [
    {
     "data": {
      "text/plain": [
       "57399"
      ]
     },
     "execution_count": 25,
     "metadata": {},
     "output_type": "execute_result"
    }
   ],
   "source": [
    "df.query(\"`TIMESTAMP` == @END_TIME\").iloc[0].name"
   ]
  },
  {
   "cell_type": "code",
   "execution_count": 26,
   "metadata": {},
   "outputs": [
    {
     "data": {
      "text/html": [
       "<div>\n",
       "<style scoped>\n",
       "    .dataframe tbody tr th:only-of-type {\n",
       "        vertical-align: middle;\n",
       "    }\n",
       "\n",
       "    .dataframe tbody tr th {\n",
       "        vertical-align: top;\n",
       "    }\n",
       "\n",
       "    .dataframe thead th {\n",
       "        text-align: right;\n",
       "    }\n",
       "</style>\n",
       "<table border=\"1\" class=\"dataframe\">\n",
       "  <thead>\n",
       "    <tr style=\"text-align: right;\">\n",
       "      <th></th>\n",
       "      <th>BUILDING</th>\n",
       "      <th>FLOOR</th>\n",
       "      <th>TIMESTAMP</th>\n",
       "      <th>CONSUMPTION(W)</th>\n",
       "    </tr>\n",
       "  </thead>\n",
       "  <tbody>\n",
       "    <tr>\n",
       "      <th>1000</th>\n",
       "      <td>561</td>\n",
       "      <td>10</td>\n",
       "      <td>2022-07-25 01:30:00</td>\n",
       "      <td>2137</td>\n",
       "    </tr>\n",
       "  </tbody>\n",
       "</table>\n",
       "</div>"
      ],
      "text/plain": [
       "      BUILDING  FLOOR           TIMESTAMP  CONSUMPTION(W)\n",
       "1000       561     10 2022-07-25 01:30:00            2137"
      ]
     },
     "execution_count": 26,
     "metadata": {},
     "output_type": "execute_result"
    }
   ],
   "source": [
    "df.query(\"`index` == 1000\")"
   ]
  },
  {
   "cell_type": "code",
   "execution_count": 27,
   "metadata": {},
   "outputs": [
    {
     "data": {
      "text/plain": [
       "Timestamp('2022-07-18 00:00:00')"
      ]
     },
     "execution_count": 27,
     "metadata": {},
     "output_type": "execute_result"
    }
   ],
   "source": [
    "df.iloc[0]['TIMESTAMP']"
   ]
  },
  {
   "cell_type": "code",
   "execution_count": 40,
   "metadata": {},
   "outputs": [
    {
     "name": "stdout",
     "output_type": "stream",
     "text": [
      "<class 'pandas.core.frame.DataFrame'>\n",
      "RangeIndex: 19969710 entries, 0 to 19969709\n",
      "Data columns (total 4 columns):\n",
      " #   Column          Dtype         \n",
      "---  ------          -----         \n",
      " 0   BUILDING        int64         \n",
      " 1   FLOOR           int64         \n",
      " 2   TIMESTAMP       datetime64[ns]\n",
      " 3   CONSUMPTION(W)  int64         \n",
      "dtypes: datetime64[ns](1), int64(3)\n",
      "memory usage: 609.4 MB\n"
     ]
    }
   ],
   "source": [
    "df.info()"
   ]
  },
  {
   "cell_type": "code",
   "execution_count": 39,
   "metadata": {},
   "outputs": [
    {
     "name": "stdout",
     "output_type": "stream",
     "text": [
      "<class 'pandas.core.frame.DataFrame'>\n",
      "Index: 229649 entries, 0 to 2755647\n",
      "Data columns (total 4 columns):\n",
      " #   Column          Non-Null Count   Dtype         \n",
      "---  ------          --------------   -----         \n",
      " 0   BUILDING        229649 non-null  int64         \n",
      " 1   FLOOR           229649 non-null  int64         \n",
      " 2   TIMESTAMP       229649 non-null  datetime64[ns]\n",
      " 3   CONSUMPTION(W)  229649 non-null  int64         \n",
      "dtypes: datetime64[ns](1), int64(3)\n",
      "memory usage: 8.8 MB\n"
     ]
    }
   ],
   "source": [
    "df.query(f\"`BUILDING` == 561 and `FLOOR` == 10\").info()"
   ]
  },
  {
   "cell_type": "code",
   "execution_count": 77,
   "metadata": {},
   "outputs": [
    {
     "data": {
      "text/html": [
       "<div>\n",
       "<style scoped>\n",
       "    .dataframe tbody tr th:only-of-type {\n",
       "        vertical-align: middle;\n",
       "    }\n",
       "\n",
       "    .dataframe tbody tr th {\n",
       "        vertical-align: top;\n",
       "    }\n",
       "\n",
       "    .dataframe thead th {\n",
       "        text-align: right;\n",
       "    }\n",
       "</style>\n",
       "<table border=\"1\" class=\"dataframe\">\n",
       "  <thead>\n",
       "    <tr style=\"text-align: right;\">\n",
       "      <th></th>\n",
       "      <th>BUILDING</th>\n",
       "      <th>FLOOR</th>\n",
       "      <th>TIMESTAMP</th>\n",
       "      <th>CONSUMPTION(W)</th>\n",
       "    </tr>\n",
       "  </thead>\n",
       "  <tbody>\n",
       "    <tr>\n",
       "      <th>175</th>\n",
       "      <td>561</td>\n",
       "      <td>1</td>\n",
       "      <td>2022-07-19 05:30:00</td>\n",
       "      <td>790</td>\n",
       "    </tr>\n",
       "    <tr>\n",
       "      <th>284</th>\n",
       "      <td>561</td>\n",
       "      <td>1</td>\n",
       "      <td>2022-07-19 23:40:00</td>\n",
       "      <td>411</td>\n",
       "    </tr>\n",
       "    <tr>\n",
       "      <th>1438</th>\n",
       "      <td>561</td>\n",
       "      <td>1</td>\n",
       "      <td>2022-07-28 02:00:00</td>\n",
       "      <td>922</td>\n",
       "    </tr>\n",
       "    <tr>\n",
       "      <th>1478</th>\n",
       "      <td>561</td>\n",
       "      <td>1</td>\n",
       "      <td>2022-07-28 08:40:00</td>\n",
       "      <td>443</td>\n",
       "    </tr>\n",
       "    <tr>\n",
       "      <th>1525</th>\n",
       "      <td>561</td>\n",
       "      <td>1</td>\n",
       "      <td>2022-07-28 16:40:00</td>\n",
       "      <td>668</td>\n",
       "    </tr>\n",
       "    <tr>\n",
       "      <th>...</th>\n",
       "      <td>...</td>\n",
       "      <td>...</td>\n",
       "      <td>...</td>\n",
       "      <td>...</td>\n",
       "    </tr>\n",
       "    <tr>\n",
       "      <th>29465</th>\n",
       "      <td>561</td>\n",
       "      <td>1</td>\n",
       "      <td>2023-02-17 01:20:00</td>\n",
       "      <td>652</td>\n",
       "    </tr>\n",
       "    <tr>\n",
       "      <th>29899</th>\n",
       "      <td>561</td>\n",
       "      <td>1</td>\n",
       "      <td>2023-02-20 01:40:00</td>\n",
       "      <td>321</td>\n",
       "    </tr>\n",
       "    <tr>\n",
       "      <th>29900</th>\n",
       "      <td>561</td>\n",
       "      <td>1</td>\n",
       "      <td>2023-02-20 01:40:00</td>\n",
       "      <td>345</td>\n",
       "    </tr>\n",
       "    <tr>\n",
       "      <th>29901</th>\n",
       "      <td>561</td>\n",
       "      <td>1</td>\n",
       "      <td>2023-02-20 01:40:00</td>\n",
       "      <td>752</td>\n",
       "    </tr>\n",
       "    <tr>\n",
       "      <th>33335</th>\n",
       "      <td>561</td>\n",
       "      <td>1</td>\n",
       "      <td>2023-03-16 06:10:00</td>\n",
       "      <td>178</td>\n",
       "    </tr>\n",
       "  </tbody>\n",
       "</table>\n",
       "<p>218 rows × 4 columns</p>\n",
       "</div>"
      ],
      "text/plain": [
       "       BUILDING  FLOOR           TIMESTAMP  CONSUMPTION(W)\n",
       "175         561      1 2022-07-19 05:30:00             790\n",
       "284         561      1 2022-07-19 23:40:00             411\n",
       "1438        561      1 2022-07-28 02:00:00             922\n",
       "1478        561      1 2022-07-28 08:40:00             443\n",
       "1525        561      1 2022-07-28 16:40:00             668\n",
       "...         ...    ...                 ...             ...\n",
       "29465       561      1 2023-02-17 01:20:00             652\n",
       "29899       561      1 2023-02-20 01:40:00             321\n",
       "29900       561      1 2023-02-20 01:40:00             345\n",
       "29901       561      1 2023-02-20 01:40:00             752\n",
       "33335       561      1 2023-03-16 06:10:00             178\n",
       "\n",
       "[218 rows x 4 columns]"
      ]
     },
     "execution_count": 77,
     "metadata": {},
     "output_type": "execute_result"
    }
   ],
   "source": [
    "test_df = df.query(f\"`BUILDING` == 561 and `FLOOR` == 1\")\n",
    "\n",
    "begin_idx = test_df.iloc[0].name\n",
    "last_idx = test_df.query(\"`TIMESTAMP` == @END_TIME\").iloc[0].name\n",
    "\n",
    "test_df = df.iloc[begin_idx:last_idx + 1]\n",
    "test_df = test_df.reset_index(drop=True)\n",
    "test_df.loc[test_df.duplicated(['TIMESTAMP']).to_list()]\n",
    "# test_df['TIMESTAMP'].plot()"
   ]
  },
  {
   "cell_type": "code",
   "execution_count": 91,
   "metadata": {},
   "outputs": [
    {
     "data": {
      "text/plain": [
       "<Axes: >"
      ]
     },
     "execution_count": 91,
     "metadata": {},
     "output_type": "execute_result"
    },
    {
     "data": {
      "image/png": "[encoded data removed]",
      "text/plain": [
       "<Figure size 640x480 with 1 Axes>"
      ]
     },
     "metadata": {},
     "output_type": "display_data"
    }
   ],
   "source": [
    "test_df.loc[29465 : 30000]['TIMESTAMP'].plot()"
   ]
  },
  {
   "cell_type": "code",
   "execution_count": 96,
   "metadata": {},
   "outputs": [
    {
     "data": {
      "text/plain": [
       "<Axes: >"
      ]
     },
     "execution_count": 96,
     "metadata": {},
     "output_type": "execute_result"
    },
    {
     "data": {
      "image/png": "[encoded data removed]",
      "text/plain": [
       "<Figure size 640x480 with 1 Axes>"
      ]
     },
     "metadata": {},
     "output_type": "display_data"
    }
   ],
   "source": [
    "test_df.loc[29890 : 29920]['TIMESTAMP'].plot()"
   ]
  },
  {
   "cell_type": "code",
   "execution_count": 90,
   "metadata": {},
   "outputs": [
    {
     "data": {
      "text/plain": [
       "<Axes: >"
      ]
     },
     "execution_count": 90,
     "metadata": {},
     "output_type": "execute_result"
    },
    {
     "data": {
      "image/png": "[encoded data removed]",
      "text/plain": [
       "<Figure size 640x480 with 1 Axes>"
      ]
     },
     "metadata": {},
     "output_type": "display_data"
    }
   ],
   "source": [
    "test_df.loc[29465 : 29902]['TIMESTAMP'].plot()"
   ]
  },
  {
   "cell_type": "code",
   "execution_count": 87,
   "metadata": {},
   "outputs": [
    {
     "data": {
      "text/plain": [
       "<Axes: >"
      ]
     },
     "execution_count": 87,
     "metadata": {},
     "output_type": "execute_result"
    },
    {
     "data": {
      "image/png": "[encoded data removed]",
      "text/plain": [
       "<Figure size 640x480 with 1 Axes>"
      ]
     },
     "metadata": {},
     "output_type": "display_data"
    }
   ],
   "source": [
    "test_df.iloc[29000 : 30000]['TIMESTAMP'].plot()"
   ]
  },
  {
   "cell_type": "code",
   "execution_count": 62,
   "metadata": {},
   "outputs": [
    {
     "name": "stdout",
     "output_type": "stream",
     "text": [
      "        BUILDING  FLOOR           TIMESTAMP  CONSUMPTION(W)\n",
      "0            561      1 2022-07-18 00:00:00           948.0\n",
      "1            561      1 2022-07-18 00:10:00           973.0\n",
      "2            561      1 2022-07-18 00:20:00          1010.0\n",
      "3            561      1 2022-07-18 00:30:00           794.0\n",
      "4            561      1 2022-07-18 00:40:00           901.0\n",
      "...          ...    ...                 ...             ...\n",
      "116115       561      1 2023-08-30 10:20:00             NaN\n",
      "116116       561      1 2023-08-30 10:30:00             NaN\n",
      "57408        561      1 2023-08-30 10:30:00           547.0\n",
      "57409        561      1 2023-08-30 10:40:00           490.0\n",
      "116117       561      1 2023-08-30 10:40:00             NaN\n",
      "\n",
      "[116118 rows x 4 columns]\n",
      "결측치 갯수: 58708\n",
      "보간 전 561동 1호 :  BUILDING              0\n",
      "FLOOR                 0\n",
      "TIMESTAMP             0\n",
      "CONSUMPTION(W)    58708\n",
      "dtype: int64\n"
     ]
    },
    {
     "ename": "NotImplementedError",
     "evalue": "",
     "output_type": "error",
     "traceback": [
      "\u001b[1;31m---------------------------------------------------------------------------\u001b[0m",
      "\u001b[1;31mNotImplementedError\u001b[0m                       Traceback (most recent call last)",
      "\u001b[1;32mc:\\Users\\hansung\\Desktop\\BEMS\\ai\\preprocess.ipynb Cell 30\u001b[0m line \u001b[0;36m3\n\u001b[0;32m     <a href='vscode-notebook-cell:/c%3A/Users/hansung/Desktop/BEMS/ai/preprocess.ipynb#X36sZmlsZQ%3D%3D?line=31'>32</a>\u001b[0m \u001b[39m#선형 보간하기\u001b[39;00m\n\u001b[0;32m     <a href='vscode-notebook-cell:/c%3A/Users/hansung/Desktop/BEMS/ai/preprocess.ipynb#X36sZmlsZQ%3D%3D?line=33'>34</a>\u001b[0m \u001b[39mprint\u001b[39m(\u001b[39mf\u001b[39m\u001b[39m\"\u001b[39m\u001b[39m보간 전 \u001b[39m\u001b[39m{\u001b[39;00mb\u001b[39m}\u001b[39;00m\u001b[39m동 \u001b[39m\u001b[39m{\u001b[39;00mf\u001b[39m}\u001b[39;00m\u001b[39m호 : \u001b[39m\u001b[39m\"\u001b[39m , floor_df\u001b[39m.\u001b[39misna()\u001b[39m.\u001b[39msum())\n\u001b[1;32m---> <a href='vscode-notebook-cell:/c%3A/Users/hansung/Desktop/BEMS/ai/preprocess.ipynb#X36sZmlsZQ%3D%3D?line=35'>36</a>\u001b[0m floor_df\u001b[39m.\u001b[39;49minterpolate(method \u001b[39m=\u001b[39;49m \u001b[39m\"\u001b[39;49m\u001b[39mtime\u001b[39;49m\u001b[39m\"\u001b[39;49m, inplace \u001b[39m=\u001b[39;49m \u001b[39mTrue\u001b[39;49;00m)\n\u001b[0;32m     <a href='vscode-notebook-cell:/c%3A/Users/hansung/Desktop/BEMS/ai/preprocess.ipynb#X36sZmlsZQ%3D%3D?line=37'>38</a>\u001b[0m \u001b[39mprint\u001b[39m(\u001b[39mf\u001b[39m\u001b[39m\"\u001b[39m\u001b[39m보간 후 \u001b[39m\u001b[39m{\u001b[39;00mb\u001b[39m}\u001b[39;00m\u001b[39m동 \u001b[39m\u001b[39m{\u001b[39;00mf\u001b[39m}\u001b[39;00m\u001b[39m호 : \u001b[39m\u001b[39m\"\u001b[39m , floor_df\u001b[39m.\u001b[39misna()\u001b[39m.\u001b[39msum())\n\u001b[0;32m     <a href='vscode-notebook-cell:/c%3A/Users/hansung/Desktop/BEMS/ai/preprocess.ipynb#X36sZmlsZQ%3D%3D?line=39'>40</a>\u001b[0m \u001b[39m#최종 데이터프레임에 병합하기\u001b[39;00m\n",
      "File \u001b[1;32mc:\\Users\\hansung\\anaconda3\\envs\\ESS_RL\\lib\\site-packages\\pandas\\core\\generic.py:8206\u001b[0m, in \u001b[0;36mNDFrame.interpolate\u001b[1;34m(self, method, axis, limit, inplace, limit_direction, limit_area, downcast, **kwargs)\u001b[0m\n\u001b[0;32m   8204\u001b[0m \u001b[39melse\u001b[39;00m:\n\u001b[0;32m   8205\u001b[0m     index \u001b[39m=\u001b[39m missing\u001b[39m.\u001b[39mget_interp_index(method, obj\u001b[39m.\u001b[39mindex)\n\u001b[1;32m-> 8206\u001b[0m     new_data \u001b[39m=\u001b[39m obj\u001b[39m.\u001b[39m_mgr\u001b[39m.\u001b[39minterpolate(\n\u001b[0;32m   8207\u001b[0m         method\u001b[39m=\u001b[39mmethod,\n\u001b[0;32m   8208\u001b[0m         index\u001b[39m=\u001b[39mindex,\n\u001b[0;32m   8209\u001b[0m         limit\u001b[39m=\u001b[39mlimit,\n\u001b[0;32m   8210\u001b[0m         limit_direction\u001b[39m=\u001b[39mlimit_direction,\n\u001b[0;32m   8211\u001b[0m         limit_area\u001b[39m=\u001b[39mlimit_area,\n\u001b[0;32m   8212\u001b[0m         inplace\u001b[39m=\u001b[39minplace,\n\u001b[0;32m   8213\u001b[0m         downcast\u001b[39m=\u001b[39mdowncast,\n\u001b[0;32m   8214\u001b[0m         \u001b[39m*\u001b[39m\u001b[39m*\u001b[39mkwargs,\n\u001b[0;32m   8215\u001b[0m     )\n\u001b[0;32m   8217\u001b[0m result \u001b[39m=\u001b[39m \u001b[39mself\u001b[39m\u001b[39m.\u001b[39m_constructor_from_mgr(new_data, axes\u001b[39m=\u001b[39mnew_data\u001b[39m.\u001b[39maxes)\n\u001b[0;32m   8218\u001b[0m \u001b[39mif\u001b[39;00m should_transpose:\n",
      "File \u001b[1;32mc:\\Users\\hansung\\anaconda3\\envs\\ESS_RL\\lib\\site-packages\\pandas\\core\\internals\\base.py:265\u001b[0m, in \u001b[0;36mDataManager.interpolate\u001b[1;34m(self, inplace, **kwargs)\u001b[0m\n\u001b[0;32m    264\u001b[0m \u001b[39mdef\u001b[39;00m \u001b[39minterpolate\u001b[39m(\u001b[39mself\u001b[39m, inplace: \u001b[39mbool\u001b[39m, \u001b[39m*\u001b[39m\u001b[39m*\u001b[39mkwargs) \u001b[39m-\u001b[39m\u001b[39m>\u001b[39m Self:\n\u001b[1;32m--> 265\u001b[0m     \u001b[39mreturn\u001b[39;00m \u001b[39mself\u001b[39m\u001b[39m.\u001b[39mapply_with_block(\n\u001b[0;32m    266\u001b[0m         \u001b[39m\"\u001b[39m\u001b[39minterpolate\u001b[39m\u001b[39m\"\u001b[39m, inplace\u001b[39m=\u001b[39minplace, \u001b[39m*\u001b[39m\u001b[39m*\u001b[39mkwargs, using_cow\u001b[39m=\u001b[39musing_copy_on_write()\n\u001b[0;32m    267\u001b[0m     )\n",
      "File \u001b[1;32mc:\\Users\\hansung\\anaconda3\\envs\\ESS_RL\\lib\\site-packages\\pandas\\core\\internals\\managers.py:354\u001b[0m, in \u001b[0;36mBaseBlockManager.apply\u001b[1;34m(self, f, align_keys, **kwargs)\u001b[0m\n\u001b[0;32m    352\u001b[0m         applied \u001b[39m=\u001b[39m b\u001b[39m.\u001b[39mapply(f, \u001b[39m*\u001b[39m\u001b[39m*\u001b[39mkwargs)\n\u001b[0;32m    353\u001b[0m     \u001b[39melse\u001b[39;00m:\n\u001b[1;32m--> 354\u001b[0m         applied \u001b[39m=\u001b[39m \u001b[39mgetattr\u001b[39m(b, f)(\u001b[39m*\u001b[39m\u001b[39m*\u001b[39mkwargs)\n\u001b[0;32m    355\u001b[0m     result_blocks \u001b[39m=\u001b[39m extend_blocks(applied, result_blocks)\n\u001b[0;32m    357\u001b[0m out \u001b[39m=\u001b[39m \u001b[39mtype\u001b[39m(\u001b[39mself\u001b[39m)\u001b[39m.\u001b[39mfrom_blocks(result_blocks, \u001b[39mself\u001b[39m\u001b[39m.\u001b[39maxes)\n",
      "File \u001b[1;32mc:\\Users\\hansung\\anaconda3\\envs\\ESS_RL\\lib\\site-packages\\pandas\\core\\internals\\blocks.py:1507\u001b[0m, in \u001b[0;36mBlock.interpolate\u001b[1;34m(self, method, index, inplace, limit, limit_direction, limit_area, downcast, using_cow, **kwargs)\u001b[0m\n\u001b[0;32m   1504\u001b[0m copy, refs \u001b[39m=\u001b[39m \u001b[39mself\u001b[39m\u001b[39m.\u001b[39m_get_refs_and_copy(using_cow, inplace)\n\u001b[0;32m   1506\u001b[0m \u001b[39m# Dispatch to the EA method.\u001b[39;00m\n\u001b[1;32m-> 1507\u001b[0m new_values \u001b[39m=\u001b[39m \u001b[39mself\u001b[39m\u001b[39m.\u001b[39marray_values\u001b[39m.\u001b[39minterpolate(\n\u001b[0;32m   1508\u001b[0m     method\u001b[39m=\u001b[39mmethod,\n\u001b[0;32m   1509\u001b[0m     axis\u001b[39m=\u001b[39m\u001b[39mself\u001b[39m\u001b[39m.\u001b[39mndim \u001b[39m-\u001b[39m \u001b[39m1\u001b[39m,\n\u001b[0;32m   1510\u001b[0m     index\u001b[39m=\u001b[39mindex,\n\u001b[0;32m   1511\u001b[0m     limit\u001b[39m=\u001b[39mlimit,\n\u001b[0;32m   1512\u001b[0m     limit_direction\u001b[39m=\u001b[39mlimit_direction,\n\u001b[0;32m   1513\u001b[0m     limit_area\u001b[39m=\u001b[39mlimit_area,\n\u001b[0;32m   1514\u001b[0m     copy\u001b[39m=\u001b[39mcopy,\n\u001b[0;32m   1515\u001b[0m     \u001b[39m*\u001b[39m\u001b[39m*\u001b[39mkwargs,\n\u001b[0;32m   1516\u001b[0m )\n\u001b[0;32m   1517\u001b[0m data \u001b[39m=\u001b[39m extract_array(new_values, extract_numpy\u001b[39m=\u001b[39m\u001b[39mTrue\u001b[39;00m)\n\u001b[0;32m   1519\u001b[0m nb \u001b[39m=\u001b[39m \u001b[39mself\u001b[39m\u001b[39m.\u001b[39mmake_block_same_class(data, refs\u001b[39m=\u001b[39mrefs)\n",
      "File \u001b[1;32mc:\\Users\\hansung\\anaconda3\\envs\\ESS_RL\\lib\\site-packages\\pandas\\core\\arrays\\datetimelike.py:2290\u001b[0m, in \u001b[0;36mTimelikeOps.interpolate\u001b[1;34m(self, method, axis, index, limit, limit_direction, limit_area, copy, **kwargs)\u001b[0m\n\u001b[0;32m   2288\u001b[0m \u001b[39m# NB: we return type(self) even if copy=False\u001b[39;00m\n\u001b[0;32m   2289\u001b[0m \u001b[39mif\u001b[39;00m method \u001b[39m!=\u001b[39m \u001b[39m\"\u001b[39m\u001b[39mlinear\u001b[39m\u001b[39m\"\u001b[39m:\n\u001b[1;32m-> 2290\u001b[0m     \u001b[39mraise\u001b[39;00m \u001b[39mNotImplementedError\u001b[39;00m\n\u001b[0;32m   2292\u001b[0m \u001b[39mif\u001b[39;00m \u001b[39mnot\u001b[39;00m copy:\n\u001b[0;32m   2293\u001b[0m     out_data \u001b[39m=\u001b[39m \u001b[39mself\u001b[39m\u001b[39m.\u001b[39m_ndarray\n",
      "\u001b[1;31mNotImplementedError\u001b[0m: "
     ]
    }
   ],
   "source": [
    "final_df = pd.DataFrame({'BUILDING':[],\t'FLOOR':[],\t'TIMESTAMP':[],\t'CONSUMPTION(W)':[]})\n",
    "\n",
    "for b in buildings:\n",
    "    floors = df.query(f\"`BUILDING` == {b}\")['FLOOR'].drop_duplicates().sort_values().values\n",
    "    for f in floors:\n",
    "        floor_df = df.query(f\"`BUILDING` == {b} and `FLOOR` == {f}\")\n",
    "\n",
    "        begin_idx = floor_df.iloc[0].name\n",
    "        last_idx = floor_df.query(\"`TIMESTAMP` == @END_TIME\").iloc[0].name\n",
    "        \n",
    "        floor_df = df.iloc[begin_idx:last_idx + 1]\n",
    "\n",
    "        #결측치 찾기\n",
    "        missing_times = []\n",
    "        time = df.iloc[begin_idx]['TIMESTAMP']\n",
    "        i = 0\n",
    "        while time <= END_TIME:\n",
    "            if floor_df.iloc[i]['TIMESTAMP'] != time:\n",
    "                i -= 1\n",
    "                missing_times.append(time)\n",
    "                append_df = pd.DataFrame({'BUILDING' : [b], 'FLOOR' : [f], 'TIMESTAMP' : [time], 'CONSUMPTION(W)' : [np.nan]})\n",
    "                floor_df = pd.concat([floor_df,append_df], ignore_index = True)\n",
    "\n",
    "            i += 1\n",
    "            time += datetime.timedelta(minutes = 10)\n",
    "\n",
    "        floor_df.reset_index(drop=True, inplace=True)\n",
    "        floor_df.sort_values(by='TIMESTAMP', ascending=True, inplace=True)\n",
    "        print(floor_df)\n",
    "\n",
    "        print('결측치 갯수:', len(missing_times))\n",
    "        \n",
    "        #선형 보간하기\n",
    "\n",
    "        print(f\"보간 전 {b}동 {f}호 : \" , floor_df.isna().sum())\n",
    "\n",
    "        floor_df.interpolate(method = \"time\", inplace = True)\n",
    "\n",
    "        print(f\"보간 후 {b}동 {f}호 : \" , floor_df.isna().sum())\n",
    "\n",
    "        #최종 데이터프레임에 병합하기\n",
    "        final_df = final_df.concat([final_df, floor_df], ignore_index = True)\n",
    "\n",
    "        print(f\"{b} 동 {f} 호 완료\")\n",
    "\n",
    "\n"
   ]
  },
  {
   "cell_type": "code",
   "execution_count": 64,
   "metadata": {},
   "outputs": [
    {
     "data": {
      "text/html": [
       "<div>\n",
       "<style scoped>\n",
       "    .dataframe tbody tr th:only-of-type {\n",
       "        vertical-align: middle;\n",
       "    }\n",
       "\n",
       "    .dataframe tbody tr th {\n",
       "        vertical-align: top;\n",
       "    }\n",
       "\n",
       "    .dataframe thead th {\n",
       "        text-align: right;\n",
       "    }\n",
       "</style>\n",
       "<table border=\"1\" class=\"dataframe\">\n",
       "  <thead>\n",
       "    <tr style=\"text-align: right;\">\n",
       "      <th></th>\n",
       "      <th>BUILDING</th>\n",
       "      <th>FLOOR</th>\n",
       "      <th>TIMESTAMP</th>\n",
       "      <th>CONSUMPTION(W)</th>\n",
       "    </tr>\n",
       "  </thead>\n",
       "  <tbody>\n",
       "    <tr>\n",
       "      <th>57405</th>\n",
       "      <td>561</td>\n",
       "      <td>1</td>\n",
       "      <td>2023-08-30 10:00:00</td>\n",
       "      <td>354.0</td>\n",
       "    </tr>\n",
       "    <tr>\n",
       "      <th>116113</th>\n",
       "      <td>561</td>\n",
       "      <td>1</td>\n",
       "      <td>2023-08-30 10:00:00</td>\n",
       "      <td>NaN</td>\n",
       "    </tr>\n",
       "    <tr>\n",
       "      <th>57406</th>\n",
       "      <td>561</td>\n",
       "      <td>1</td>\n",
       "      <td>2023-08-30 10:10:00</td>\n",
       "      <td>387.0</td>\n",
       "    </tr>\n",
       "    <tr>\n",
       "      <th>116114</th>\n",
       "      <td>561</td>\n",
       "      <td>1</td>\n",
       "      <td>2023-08-30 10:10:00</td>\n",
       "      <td>NaN</td>\n",
       "    </tr>\n",
       "    <tr>\n",
       "      <th>57407</th>\n",
       "      <td>561</td>\n",
       "      <td>1</td>\n",
       "      <td>2023-08-30 10:20:00</td>\n",
       "      <td>505.0</td>\n",
       "    </tr>\n",
       "    <tr>\n",
       "      <th>116115</th>\n",
       "      <td>561</td>\n",
       "      <td>1</td>\n",
       "      <td>2023-08-30 10:20:00</td>\n",
       "      <td>NaN</td>\n",
       "    </tr>\n",
       "    <tr>\n",
       "      <th>116116</th>\n",
       "      <td>561</td>\n",
       "      <td>1</td>\n",
       "      <td>2023-08-30 10:30:00</td>\n",
       "      <td>NaN</td>\n",
       "    </tr>\n",
       "    <tr>\n",
       "      <th>57408</th>\n",
       "      <td>561</td>\n",
       "      <td>1</td>\n",
       "      <td>2023-08-30 10:30:00</td>\n",
       "      <td>547.0</td>\n",
       "    </tr>\n",
       "    <tr>\n",
       "      <th>57409</th>\n",
       "      <td>561</td>\n",
       "      <td>1</td>\n",
       "      <td>2023-08-30 10:40:00</td>\n",
       "      <td>490.0</td>\n",
       "    </tr>\n",
       "    <tr>\n",
       "      <th>116117</th>\n",
       "      <td>561</td>\n",
       "      <td>1</td>\n",
       "      <td>2023-08-30 10:40:00</td>\n",
       "      <td>NaN</td>\n",
       "    </tr>\n",
       "  </tbody>\n",
       "</table>\n",
       "</div>"
      ],
      "text/plain": [
       "        BUILDING  FLOOR           TIMESTAMP  CONSUMPTION(W)\n",
       "57405        561      1 2023-08-30 10:00:00           354.0\n",
       "116113       561      1 2023-08-30 10:00:00             NaN\n",
       "57406        561      1 2023-08-30 10:10:00           387.0\n",
       "116114       561      1 2023-08-30 10:10:00             NaN\n",
       "57407        561      1 2023-08-30 10:20:00           505.0\n",
       "116115       561      1 2023-08-30 10:20:00             NaN\n",
       "116116       561      1 2023-08-30 10:30:00             NaN\n",
       "57408        561      1 2023-08-30 10:30:00           547.0\n",
       "57409        561      1 2023-08-30 10:40:00           490.0\n",
       "116117       561      1 2023-08-30 10:40:00             NaN"
      ]
     },
     "execution_count": 64,
     "metadata": {},
     "output_type": "execute_result"
    }
   ],
   "source": [
    "floor_df.tail(10)"
   ]
  },
  {
   "cell_type": "code",
   "execution_count": null,
   "metadata": {},
   "outputs": [],
   "source": [
    "test_df = df.query(\"`BUILDING` == 561 and `FLOOR` == 1\")."
   ]
  },
  {
   "cell_type": "code",
   "execution_count": null,
   "metadata": {},
   "outputs": [],
   "source": []
  }
 ],
 "metadata": {
  "kernelspec": {
   "display_name": "ESS_RL",
   "language": "python",
   "name": "python3"
  },
  "language_info": {
   "codemirror_mode": {
    "name": "ipython",
    "version": 3
   },
   "file_extension": ".py",
   "mimetype": "text/x-python",
   "name": "python",
   "nbconvert_exporter": "python",
   "pygments_lexer": "ipython3",
   "version": "3.9.18"
  },
  "orig_nbformat": 4,
  "vscode": {
   "interpreter": {
    "hash": "09637a3aa389d45ad45ab9af1dcd17b83a34b4608519640f36ecbd316e2c8d6b"
   }
  }
 },
 "nbformat": 4,
 "nbformat_minor": 2
}
